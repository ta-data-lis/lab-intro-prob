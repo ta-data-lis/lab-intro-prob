{
 "cells": [
  {
   "cell_type": "markdown",
   "metadata": {},
   "source": [
    "# Introduction To Probability\n",
    "## Challenge 1\n",
    "\n",
    "A and B are events of a probability space with $(\\omega, \\sigma, P)$ such that $P(A) = 0.3$, $P(B) = 0.6$ and $P(A \\cap B) = 0.1$\n",
    "\n",
    "Which of the following statements are false?\n",
    "* $P(A \\cup B) = 0.6$\n",
    "* $P(A \\cap B^{C}) = 0.2$\n",
    "* $P(A \\cap (B \\cup B^{C})) = 0.4$\n",
    "* $P(A^{C} \\cap B^{C}) = 0.3$\n",
    "* $P((A \\cap B)^{C}) = 0.9$"
   ]
  },
  {
   "cell_type": "code",
   "execution_count": null,
   "metadata": {},
   "outputs": [],
   "source": [
    "# 𝑃(𝐴∪𝐵)=0.6\n",
    "# 𝑃(𝐴𝐶∩𝐵𝐶)=0.3"
   ]
  },
  {
   "cell_type": "markdown",
   "metadata": {},
   "source": [
    "## Challenge 2\n",
    "There is a box with 10 white balls, 12 red balls and 8 black balls. Calculate the probability of:\n",
    "* Taking a white ball out.\n",
    "* Taking a white ball out after taking a black ball out.\n",
    "* Taking a red ball out after taking a black and a red ball out.\n",
    "* Taking a red ball out after taking a black and a red ball out with reposition.\n",
    "\n",
    "**Hint**: Reposition means putting back the ball into the box after taking it out."
   ]
  },
  {
   "cell_type": "code",
   "execution_count": 6,
   "metadata": {},
   "outputs": [
    {
     "name": "stdout",
     "output_type": "stream",
     "text": [
      "Probability of a white ball out: 0.3333333333333333\n",
      "Probability of taking a white ball after taking a black ball: 0.09195402298850575\n",
      "Probability of taking a red ball after taking a black and a red ball: 0.04334975369458128\n",
      "Probability of taking a red ball after taking a black and a red ball put it back: 0.04266666666666667\n"
     ]
    }
   ],
   "source": [
    "total_white = 10\n",
    "total_black = 8\n",
    "total_red = 12\n",
    "total_balls = total_white + total_black + total_red\n",
    "\n",
    "prob_white = total_white / total_balls\n",
    "\n",
    "prob_white_after_black = (total_white / (total_balls - 1)) * (total_black / total_balls)\n",
    "\n",
    "prob_red_after_black_and_red = (total_red / (total_balls - 2)) * (total_black / (total_balls - 1)) * (total_red - 1) / total_balls\n",
    "\n",
    "prob_red_after_black_and_red_put_back = (total_red / total_balls) * (total_black / total_balls) * (total_red / total_balls)\n",
    "\n",
    "print(\"Probability of a white ball out:\", prob_white)\n",
    "print(\"Probability of taking a white ball after taking a black ball:\", prob_white_after_black)\n",
    "print(\"Probability of taking a red ball after taking a black and a red ball:\", prob_red_after_black_and_red)\n",
    "print(\"Probability of taking a red ball after taking a black and a red ball put it back:\", prob_red_after_black_and_red_put_back)"
   ]
  },
  {
   "cell_type": "markdown",
   "metadata": {},
   "source": [
    "## Challenge 3\n",
    "\n",
    "You are planning to go on a picnic today but the morning is cloudy. You hate rain so you don't know whether to go out or stay home! To help you make a decision, you gather the following data about rainy days:\n",
    "\n",
    "* Knowing that it is a rainy day, the probability of cloudy is 50%!\n",
    "* The probability of any day (rainy or not) starting off cloudy is 40%. \n",
    "* This month is usually dry so only 3 of 30 days (10%) tend to be rainy. \n",
    "\n",
    "What is the probability of rain, given the day started cloudy?"
   ]
  },
  {
   "cell_type": "code",
   "execution_count": 4,
   "metadata": {},
   "outputs": [
    {
     "name": "stdout",
     "output_type": "stream",
     "text": [
      "Probability of rain given that the day started cloudy: 0.125\n"
     ]
    }
   ],
   "source": [
    "p_rain = 0.10 \n",
    "p_cloudy_if_rain = 0.50 \n",
    "p_cloudy = 0.40 \n",
    "\n",
    "p_rain_given_cloudy = (p_cloudy_if_rain * p_rain) / p_cloudy\n",
    "\n",
    "print(\"Probability of rain given that the day started cloudy:\", p_rain_given_cloudy)"
   ]
  },
  {
   "cell_type": "markdown",
   "metadata": {},
   "source": [
    "## Challenge 4\n",
    "\n",
    "One thousand people were asked through a telephone survey whether they thought more street lighting is needed at night or not.\n",
    "\n",
    "Out of the 480 men that answered the survey, 324 said yes and 156 said no. On the other hand, out of the 520 women that answered, 351 said yes and 169 said no. \n",
    "\n",
    "We wonder if men and women have a different opinions about the street lighting matter. Is gender relevant or irrelevant to the question?\n",
    "\n",
    "Consider the following events:\n",
    "- The answer is yes, so the person that answered thinks that more street lighting is needed.\n",
    "- The person who answered is a man.\n",
    "\n",
    "We want to know if these events are independent, that is, if the fact of wanting more light depends on whether one is male or female. Are these events independent or not?\n",
    "\n",
    "**Hint**: To clearly compare the answers by gender, it is best to place the data in a table."
   ]
  },
  {
   "cell_type": "code",
   "execution_count": 1,
   "metadata": {},
   "outputs": [
    {
     "name": "stdout",
     "output_type": "stream",
     "text": [
      "        Yes   No  Total\n",
      "Gender                 \n",
      "Men     324  156    480\n",
      "Women   351  169    520\n",
      "Total   675  325   1000\n"
     ]
    }
   ],
   "source": [
    "answers = {\n",
    "    'Gender': ['Men', 'Women', 'Total'],\n",
    "    'Yes': [324, 351, 675],\n",
    "    'No': [156, 169, 325],\n",
    "    'Total': [480, 520, 1000]\n",
    "}\n",
    "\n",
    "contingency_table = pd.DataFrame(answers)\n",
    "contingency_table = contingency_table.set_index('Gender')\n",
    "\n",
    "print(contingency_table)"
   ]
  },
  {
   "cell_type": "code",
   "execution_count": null,
   "metadata": {},
   "outputs": [],
   "source": [
    "# The probability of wanting more street lighting does not depend on whether the respondent is male or female."
   ]
  }
 ],
 "metadata": {
  "kernelspec": {
   "display_name": "Python 3 (ipykernel)",
   "language": "python",
   "name": "python3"
  },
  "language_info": {
   "codemirror_mode": {
    "name": "ipython",
    "version": 3
   },
   "file_extension": ".py",
   "mimetype": "text/x-python",
   "name": "python",
   "nbconvert_exporter": "python",
   "pygments_lexer": "ipython3",
   "version": "3.10.9"
  }
 },
 "nbformat": 4,
 "nbformat_minor": 2
}
