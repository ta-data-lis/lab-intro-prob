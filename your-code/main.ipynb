{
 "cells": [
  {
   "cell_type": "markdown",
   "metadata": {},
   "source": [
    "# Introduction To Probability\n",
    "## Challenge 1\n",
    "\n",
    "A and B are events of a probability space with $(\\omega, \\sigma, P)$ such that $P(A) = 0.3$, $P(B) = 0.6$ and $P(A \\cap B) = 0.1$\n",
    "\n",
    "Which of the following statements are false?\n",
    "* $P(A \\cup B) = 0.6$\n",
    "* $P(A \\cap B^{C}) = 0.2$\n",
    "* $P(A \\cap (B \\cup B^{C})) = 0.4$\n",
    "* $P(A^{C} \\cap B^{C}) = 0.3$\n",
    "* $P((A \\cap B)^{C}) = 0.9$"
   ]
  },
  {
   "cell_type": "code",
   "execution_count": 2,
   "metadata": {},
   "outputs": [],
   "source": [
    "\n",
    "# 1: P(A∪B) = P(A) + P(B) - P(A∩B) = 0.3 + 0.6 - 0.1 = 0.8\n",
    "# False\n",
    "\n",
    "# 2: P(A∩Bc) = P(A) - P(A∩B) = 0.3 - 0.1 = 0.2\n",
    "# True\n",
    "\n",
    "# 3: P(B∪Bc) = 1 -> includes all possibilites\n",
    "   # P(A∩(B∪Bc)) = P(A) = 0.3\n",
    "# False\n",
    "\n",
    "# 4: P(Ac∩Bc) = 1 - P(A∪B) = 1 - 0.8 = 0.2\n",
    "# False\n",
    "\n",
    "# 5: P((A∩B)c) = 1 - P(A∩B) = 1 - 0.1 = 0.9\n",
    "# True\n",
    "\n"
   ]
  },
  {
   "cell_type": "markdown",
   "metadata": {},
   "source": [
    "## Challenge 2\n",
    "There is a box with 10 white balls, 12 red balls and 8 black balls. Calculate the probability of:\n",
    "* Taking a white ball out.\n",
    "* Taking a white ball out after taking a black ball out.\n",
    "* Taking a red ball out after taking a black and a red ball out.\n",
    "* Taking a red ball out after taking a black and a red ball out with reposition.\n",
    "\n",
    "**Hint**: Reposition means putting back the ball into the box after taking it out."
   ]
  },
  {
   "cell_type": "code",
   "execution_count": 3,
   "metadata": {},
   "outputs": [
    {
     "data": {
      "text/plain": [
       "'\\nTaking a white ball out:\\nP(W) = 10 / (10+12+8) = 10 / 30 = 1/3\\n\\nTaking a white ball out after taking a black ball out:\\nP(B∩W) = 8/30 * 10/29 = 8/87\\n\\nTaking a red ball out after taking a black and a red ball out:\\nR_B - taking red first and black second \\nB_R - taking black first and red second\\n\\nP(R_B) = 12/30 * 8/29 = 96/870 = 16/145\\nP(B_R) = 8/30 * 12/29 = 96/870 = 16/145\\nP(R∩R_B) + P(R∩B_R) = 11/28 * 16/145 + 11/28 * 16/145 = 352/4060 = 88/1015\\n\\nTaking a red ball out after taking a black and a red ball out with reposition:\\nP(R_B) = P(B_R) = 12/30 * 8/30 = 96/900 = 8/75\\nP(R∩R_B) + P(R∩B_R) = 2 * P(R∩R_B) = 2 * 12/30 * 8/75 = 192/2250 = 32/375\\n\\n'"
      ]
     },
     "execution_count": 3,
     "metadata": {},
     "output_type": "execute_result"
    }
   ],
   "source": [
    "\"\"\"\n",
    "Taking a white ball out:\n",
    "P(W) = 10 / (10+12+8) = 10 / 30 = 1/3\n",
    "\n",
    "Taking a white ball out after taking a black ball out:\n",
    "P(B∩W) = 8/30 * 10/29 = 8/87\n",
    "\n",
    "Taking a red ball out after taking a black and a red ball out:\n",
    "R_B - taking red first and black second \n",
    "B_R - taking black first and red second\n",
    "\n",
    "P(R_B) = 12/30 * 8/29 = 96/870 = 16/145\n",
    "P(B_R) = 8/30 * 12/29 = 96/870 = 16/145\n",
    "P(R∩R_B) + P(R∩B_R) = 11/28 * 16/145 + 11/28 * 16/145 = 352/4060 = 88/1015\n",
    "\n",
    "Taking a red ball out after taking a black and a red ball out with reposition:\n",
    "P(R_B) = P(B_R) = 12/30 * 8/30 = 96/900 = 8/75\n",
    "P(R∩R_B) + P(R∩B_R) = 2 * P(R∩R_B) = 2 * 12/30 * 8/75 = 192/2250 = 32/375\n",
    "\n",
    "\"\"\""
   ]
  },
  {
   "cell_type": "markdown",
   "metadata": {},
   "source": [
    "## Challenge 3\n",
    "\n",
    "You are planning to go on a picnic today but the morning is cloudy. You hate rain so you don't know whether to go out or stay home! To help you make a decision, you gather the following data about rainy days:\n",
    "\n",
    "* Knowing that it is a rainy day, the probability of cloudy is 50%!\n",
    "* The probability of any day (rainy or not) starting off cloudy is 40%. \n",
    "* This month is usually dry so only 3 of 30 days (10%) tend to be rainy. \n",
    "\n",
    "What is the probability of rain, given the day started cloudy?"
   ]
  },
  {
   "cell_type": "code",
   "execution_count": 4,
   "metadata": {},
   "outputs": [
    {
     "data": {
      "text/plain": [
       "'\\nR - rainy day\\nC - cloudy day\\n\\nP(C|R) = 0.5\\nP(C) = 0.4\\nP(R) = 0.1\\n\\nP(R|C) = P(C|R) * P(R) / P(C) = 0.5 * 0.1 / 0.4 = 0.125\\n'"
      ]
     },
     "execution_count": 4,
     "metadata": {},
     "output_type": "execute_result"
    }
   ],
   "source": [
    "\"\"\"\n",
    "R - rainy day\n",
    "C - cloudy day\n",
    "\n",
    "P(C|R) = 0.5\n",
    "P(C) = 0.4\n",
    "P(R) = 0.1\n",
    "\n",
    "P(R|C) = P(C|R) * P(R) / P(C) = 0.5 * 0.1 / 0.4 = 0.125\n",
    "\"\"\""
   ]
  },
  {
   "cell_type": "markdown",
   "metadata": {},
   "source": [
    "## Challenge 4\n",
    "\n",
    "One thousand people were asked through a telephone survey whether they thought more street lighting is needed at night or not.\n",
    "\n",
    "Out of the 480 men that answered the survey, 324 said yes and 156 said no. On the other hand, out of the 520 women that answered, 351 said yes and 169 said no. \n",
    "\n",
    "We wonder if men and women have a different opinions about the street lighting matter. Is gender relevant or irrelevant to the question?\n",
    "\n",
    "Consider the following events:\n",
    "- The answer is yes, so the person that answered thinks that more street lighting is needed.\n",
    "- The person who answered is a man.\n",
    "\n",
    "We want to know if these events are independent, that is, if the fact of wanting more light depends on whether one is male or female. Are these events independent or not?\n",
    "\n",
    "**Hint**: To clearly compare the answers by gender, it is best to place the data in a table."
   ]
  },
  {
   "cell_type": "code",
   "execution_count": 5,
   "metadata": {},
   "outputs": [
    {
     "data": {
      "text/html": [
       "<div>\n",
       "<style scoped>\n",
       "    .dataframe tbody tr th:only-of-type {\n",
       "        vertical-align: middle;\n",
       "    }\n",
       "\n",
       "    .dataframe tbody tr th {\n",
       "        vertical-align: top;\n",
       "    }\n",
       "\n",
       "    .dataframe thead th {\n",
       "        text-align: right;\n",
       "    }\n",
       "</style>\n",
       "<table border=\"1\" class=\"dataframe\">\n",
       "  <thead>\n",
       "    <tr style=\"text-align: right;\">\n",
       "      <th></th>\n",
       "      <th>Men</th>\n",
       "      <th>Women</th>\n",
       "    </tr>\n",
       "  </thead>\n",
       "  <tbody>\n",
       "    <tr>\n",
       "      <th>Yes</th>\n",
       "      <td>324</td>\n",
       "      <td>351</td>\n",
       "    </tr>\n",
       "    <tr>\n",
       "      <th>No</th>\n",
       "      <td>156</td>\n",
       "      <td>169</td>\n",
       "    </tr>\n",
       "  </tbody>\n",
       "</table>\n",
       "</div>"
      ],
      "text/plain": [
       "     Men  Women\n",
       "Yes  324    351\n",
       "No   156    169"
      ]
     },
     "execution_count": 5,
     "metadata": {},
     "output_type": "execute_result"
    }
   ],
   "source": [
    "\n",
    "\n",
    "import pandas as pd \n",
    "\n",
    "data = pd.DataFrame({'Men':[324, 156], 'Women':[351, 169]}, index=['Yes', 'No'])\n",
    "data\n",
    "\n"
   ]
  },
  {
   "cell_type": "code",
   "execution_count": 6,
   "metadata": {},
   "outputs": [
    {
     "name": "stdout",
     "output_type": "stream",
     "text": [
      "The probability of a man answering Yes is 0.675. \n",
      "The probability of a woman answering Yes is 0.675\n",
      "The probability is independent of wether it's a man or a woman answering\n"
     ]
    }
   ],
   "source": [
    "P1 = 324 / (324 + 156)\n",
    "P2 = 351 / (351 + 169)\n",
    "\n",
    "print(\n",
    "    f'The probability of a man answering Yes is {P1}. \\nThe probability of a woman answering Yes is {P2}'\n",
    ")\n",
    "\n",
    "print(\"The probability is independent of wether it's a man or a woman answering\")"
   ]
  },
  {
   "cell_type": "code",
   "execution_count": null,
   "metadata": {},
   "outputs": [],
   "source": []
  }
 ],
 "metadata": {
  "kernelspec": {
   "display_name": "Python 3",
   "language": "python",
   "name": "python3"
  },
  "language_info": {
   "codemirror_mode": {
    "name": "ipython",
    "version": 3
   },
   "file_extension": ".py",
   "mimetype": "text/x-python",
   "name": "python",
   "nbconvert_exporter": "python",
   "pygments_lexer": "ipython3",
   "version": "3.8.3"
  }
 },
 "nbformat": 4,
 "nbformat_minor": 4
}
