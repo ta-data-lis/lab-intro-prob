{
 "cells": [
  {
   "cell_type": "markdown",
   "metadata": {},
   "source": [
    "# Introduction To Probability\n",
    "## Challenge 1\n",
    "\n",
    "A and B are events of a probability space with $(\\omega, \\sigma, P)$ such that $P(A) = 0.3$, $P(B) = 0.6$ and $P(A \\cap B) = 0.1$\n",
    "\n",
    "Which of the following statements are false?\n",
    "* $P(A \\cup B) = 0.6$\n",
    "* $P(A \\cap B^{C}) = 0.2$\n",
    "* $P(A \\cap (B \\cup B^{C})) = 0.4$\n",
    "* $P(A^{C} \\cap B^{C}) = 0.3$\n",
    "* $P((A \\cap B)^{C}) = 0.9$"
   ]
  },
  {
   "cell_type": "code",
   "execution_count": null,
   "metadata": {},
   "outputs": [],
   "source": [
    "## Just writing this down for reference\n",
    "\n",
    "𝑃(𝐴𝑐) means the probability that 𝐴 doesnt happen.\n",
    "\n",
    "𝑃(𝐴𝑐)=1−𝑃(𝐴)\n",
    "\n",
    "\"\"\"\n",
    "1 - The first statement is false. Inclusion-exclusion principle to calculate 𝑃(𝐴∪𝐵), so 𝑃(𝐴∪𝐵) = 𝑃(𝐴) + 𝑃(𝐵) - 𝑃(𝐴∩𝐵).\n",
    "Using the given values, 0.6 + 0.3 - 0.1 = 0.8\n",
    "\n",
    "2 - The second statement is true. 𝑃(𝐴∩𝐵𝐶) = 𝑃(𝐴) − 𝑃(𝐴∩𝐵). 𝑃(𝐴∩𝐵𝐶) = 0.3 - 0.1 = 0.2\n",
    "\n",
    "3 - Third statement is false. 𝐵∪𝐵𝐶 is = 1, so PA U 1 will be P(A), which we know is 0.3.\n",
    "\n",
    "4 - The fourth statement is false. 𝑃(𝐴𝐶∩𝐵𝐶) is equal to 𝑃((𝐴∪𝐵)𝐶). Since we know 𝑃(𝐴∪𝐵) is 0.8, 𝑃((𝐴∪𝐵)𝐶) should be 0.2\n",
    "\n",
    "5 - The fifth statement is true. We know that 𝑃(𝐴∩𝐵)=0.1, so the complement of it, 𝑃((𝐴∩𝐵)𝐶), should be 0.9.\n",
    "\"\"\""
   ]
  },
  {
   "cell_type": "markdown",
   "metadata": {},
   "source": [
    "## Challenge 2\n",
    "There is a box with 10 white balls, 12 red balls and 8 black balls. Calculate the probability of:\n",
    "* Taking a white ball out.\n",
    "* Taking a white ball out after taking a black ball out.\n",
    "* Taking a red ball out after taking a black and a red ball out.\n",
    "* Taking a red ball out after taking a black and a red ball out with reposition.\n",
    "\n",
    "**Hint**: Reposition means putting back the ball into the box after taking it out."
   ]
  },
  {
   "cell_type": "code",
   "execution_count": null,
   "metadata": {},
   "outputs": [],
   "source": [
    "## Using Laplace\n",
    "\n",
    "\"\"\"\n",
    "10 white balls, 12 red balls and 8 black balls.\n",
    "Total balls = 30\n",
    "\n",
    "- Taking a white ball out: 10 white balls / 30 total balls - 10/30 - 1/3\n",
    "\n",
    "- Taking a white ball out after taking a black ball out: 8/30 * 10/29\n",
    "\n",
    "- Taking a red ball out after taking a black and a red ball out: 12/30 * 8/29 * 11/28\n",
    "\n",
    "- Taking a red ball out after taking a black and a red ball out with reposition: 12/30 * 8/30 * 12/30\n",
    "\n",
    "\"\"\""
   ]
  },
  {
   "cell_type": "markdown",
   "metadata": {},
   "source": [
    "## Challenge 3\n",
    "\n",
    "You are planning to go on a picnic today but the morning is cloudy. You hate rain so you don't know whether to go out or stay home! To help you make a decision, you gather the following data about rainy days:\n",
    "\n",
    "* Knowing that it is a rainy day, the probability of cloudy is 50%!\n",
    "* The probability of any day (rainy or not) starting off cloudy is 40%. \n",
    "* This month is usually dry so only 3 of 30 days (10%) tend to be rainy. \n",
    "\n",
    "What is the probability of rain, given the day started cloudy?"
   ]
  },
  {
   "cell_type": "code",
   "execution_count": null,
   "metadata": {},
   "outputs": [],
   "source": [
    "\"\"\"\n",
    "P(R|C)\n",
    "\n",
    "2/5 or 0.4 = to be a cloudy day = PC\n",
    "1/2 or 0.5  = to be cloudy on a rainy day = P C|R\n",
    "1/10 or 0.1 = to rain that month = PR \n",
    "\n",
    "Bayes theorem:\n",
    "\n",
    "P(R|C) = P(C|R) * P(R) / P(C)\n",
    "\n",
    "P(R|C) = 0.5 * (0.1 / 0.4) = 0.125\n",
    "\n",
    "12,5% probability of rain, given the day started cloudy.\n",
    "\n",
    "\"\"\"\n",
    "\n"
   ]
  },
  {
   "cell_type": "markdown",
   "metadata": {},
   "source": [
    "## Challenge 4\n",
    "\n",
    "One thousand people were asked through a telephone survey whether they thought more street lighting is needed at night or not.\n",
    "\n",
    "Out of the 480 men that answered the survey, 324 said yes and 156 said no. On the other hand, out of the 520 women that answered, 351 said yes and 169 said no. \n",
    "\n",
    "We wonder if men and women have a different opinions about the street lighting matter. Is gender relevant or irrelevant to the question?\n",
    "\n",
    "Consider the following events:\n",
    "- The answer is yes, so the person that answered thinks that more street lighting is needed.\n",
    "- The person who answered is a man.\n",
    "\n",
    "We want to know if these events are independent, that is, if the fact of wanting more light depends on whether one is male or female. Are these events independent or not?\n",
    "\n",
    "**Hint**: To clearly compare the answers by gender, it is best to place the data in a table."
   ]
  },
  {
   "cell_type": "code",
   "execution_count": 13,
   "metadata": {},
   "outputs": [
    {
     "data": {
      "text/html": [
       "<div>\n",
       "<style scoped>\n",
       "    .dataframe tbody tr th:only-of-type {\n",
       "        vertical-align: middle;\n",
       "    }\n",
       "\n",
       "    .dataframe tbody tr th {\n",
       "        vertical-align: top;\n",
       "    }\n",
       "\n",
       "    .dataframe thead th {\n",
       "        text-align: right;\n",
       "    }\n",
       "</style>\n",
       "<table border=\"1\" class=\"dataframe\">\n",
       "  <thead>\n",
       "    <tr style=\"text-align: right;\">\n",
       "      <th></th>\n",
       "      <th>Gender</th>\n",
       "      <th>Yes</th>\n",
       "      <th>No</th>\n",
       "      <th>Total</th>\n",
       "    </tr>\n",
       "  </thead>\n",
       "  <tbody>\n",
       "    <tr>\n",
       "      <th>0</th>\n",
       "      <td>Men</td>\n",
       "      <td>324</td>\n",
       "      <td>156</td>\n",
       "      <td>480</td>\n",
       "    </tr>\n",
       "    <tr>\n",
       "      <th>1</th>\n",
       "      <td>Women</td>\n",
       "      <td>351</td>\n",
       "      <td>169</td>\n",
       "      <td>520</td>\n",
       "    </tr>\n",
       "  </tbody>\n",
       "</table>\n",
       "</div>"
      ],
      "text/plain": [
       "  Gender  Yes   No  Total\n",
       "0    Men  324  156    480\n",
       "1  Women  351  169    520"
      ]
     },
     "execution_count": 13,
     "metadata": {},
     "output_type": "execute_result"
    }
   ],
   "source": [
    "# your code here\n",
    "\n",
    "import pandas as pd\n",
    "\n",
    "data = {'Gender': ['Men', 'Women'], \n",
    "        'Yes': [324, 351],\n",
    "        'No': [156, 169],\n",
    "        'Total': [480, 520]}\n",
    "\n",
    "df = pd.DataFrame(data)\n",
    "df"
   ]
  },
  {
   "cell_type": "code",
   "execution_count": null,
   "metadata": {},
   "outputs": [],
   "source": [
    "\"\"\"\n",
    "Two events are said to be independent if one does not impact the other.\n",
    "\n",
    "In order for 2 events A and B to be independent, at least one of the following statements must be true:\n",
    "\n",
    "P(A)*P(B) = P(A ∩ B)\n",
    "\n",
    "P(A|B) = P(A)\n",
    "\n",
    "P(B|A) = P(B)\n",
    "\n",
    "Total surveys are 1000, so probabilities will be \"0. the actual number\". And we want to know if saying yes and\n",
    "being a men are connectec-\n",
    "\n",
    "P(Y) = 0.675 (All the Yes)\n",
    "P(M) = 0.48 (All the men)\n",
    "P(Y∩M) = 0.324\n",
    "\n",
    "Therefore P(A)*P(B) = P(A ∩ B)\n",
    "\n",
    "0.675 * 0.48 = 0.324\n",
    "\n",
    "The statement is true, so it appears the events are indeed independent. \n",
    " \n",
    "\"\"\""
   ]
  }
 ],
 "metadata": {
  "kernelspec": {
   "display_name": "Python 3 (ipykernel)",
   "language": "python",
   "name": "python3"
  },
  "language_info": {
   "codemirror_mode": {
    "name": "ipython",
    "version": 3
   },
   "file_extension": ".py",
   "mimetype": "text/x-python",
   "name": "python",
   "nbconvert_exporter": "python",
   "pygments_lexer": "ipython3",
   "version": "3.9.13"
  }
 },
 "nbformat": 4,
 "nbformat_minor": 2
}
