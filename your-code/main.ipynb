{
 "cells": [
  {
   "cell_type": "markdown",
   "metadata": {},
   "source": [
    "# Introduction To Probability\n",
    "## Challenge 1\n",
    "\n",
    "A and B are events of a probability space with $(\\omega, \\sigma, P)$ such that $P(A) = 0.3$, $P(B) = 0.6$ and $P(A \\cap B) = 0.1$\n",
    "\n",
    "Which of the following statements are false?\n",
    "* $P(A \\cup B) = 0.6$\n",
    "* $P(A \\cap B^{C}) = 0.2$\n",
    "* $P(A \\cap (B \\cup B^{C})) = 0.4$\n",
    "* $P(A^{C} \\cap B^{C}) = 0.3$\n",
    "* $P((A \\cap B)^{C}) = 0.9$"
   ]
  },
  {
   "cell_type": "code",
   "execution_count": null,
   "metadata": {},
   "outputs": [],
   "source": [
    "\"\"\"\n",
    "𝑃(𝐴∪𝐵)=0.6 -> False, it's 0.8\n",
    "𝑃(𝐴∩𝐵𝐶)=0.2 -> True\n",
    "𝑃(𝐴∩(𝐵∪𝐵𝐶))=0.4 -> False it's 0.3\n",
    "(𝐴𝐶∩𝐵𝐶)=0.3 -> False it's 0.2\n",
    "𝑃((𝐴∩𝐵)𝐶)=0.9 -> True\n",
    "\"\"\""
   ]
  },
  {
   "cell_type": "markdown",
   "metadata": {},
   "source": [
    "## Challenge 2\n",
    "There is a box with 10 white balls, 12 red balls and 8 black balls. Calculate the probability of:\n",
    "* Taking a white ball out.\n",
    "* Taking a white ball out after taking a black ball out.\n",
    "* Taking a red ball out after taking a black and a red ball out.\n",
    "* Taking a red ball out after taking a black and a red ball out with reposition.\n",
    "\n",
    "**Hint**: Reposition means putting back the ball into the box after taking it out."
   ]
  },
  {
   "cell_type": "code",
   "execution_count": 3,
   "metadata": {},
   "outputs": [
    {
     "data": {
      "text/plain": [
       "0.3333333333333333"
      ]
     },
     "execution_count": 3,
     "metadata": {},
     "output_type": "execute_result"
    }
   ],
   "source": [
    "10/30"
   ]
  },
  {
   "cell_type": "code",
   "execution_count": 5,
   "metadata": {},
   "outputs": [
    {
     "data": {
      "text/plain": [
       "0.3448275862068966"
      ]
     },
     "execution_count": 5,
     "metadata": {},
     "output_type": "execute_result"
    }
   ],
   "source": [
    "10/29"
   ]
  },
  {
   "cell_type": "code",
   "execution_count": 6,
   "metadata": {},
   "outputs": [
    {
     "data": {
      "text/plain": [
       "0.39285714285714285"
      ]
     },
     "execution_count": 6,
     "metadata": {},
     "output_type": "execute_result"
    }
   ],
   "source": [
    "11/28"
   ]
  },
  {
   "cell_type": "code",
   "execution_count": 7,
   "metadata": {},
   "outputs": [
    {
     "data": {
      "text/plain": [
       "0.36666666666666664"
      ]
     },
     "execution_count": 7,
     "metadata": {},
     "output_type": "execute_result"
    }
   ],
   "source": [
    "12/30"
   ]
  },
  {
   "cell_type": "code",
   "execution_count": null,
   "metadata": {},
   "outputs": [],
   "source": [
    "\"\"\"\n",
    "Taking a white ball out. = 10/30 = 0.33\n",
    "Taking a white ball out after taking a black ball out. =  10/29 = 0.34\n",
    "Taking a red ball out after taking a black and a red ball out. = 11/28 = 0.39\n",
    "Taking a red ball out after taking a black and a red ball out with reposition. 12/30 = 0.36\n",
    "\"\"\""
   ]
  },
  {
   "cell_type": "markdown",
   "metadata": {},
   "source": [
    "## Challenge 3\n",
    "\n",
    "You are planning to go on a picnic today but the morning is cloudy. You hate rain so you don't know whether to go out or stay home! To help you make a decision, you gather the following data about rainy days:\n",
    "\n",
    "* Knowing that it is a rainy day, the probability of cloudy is 50%!\n",
    "* The probability of any day (rainy or not) starting off cloudy is 40%. \n",
    "* This month is usually dry so only 3 of 30 days (10%) tend to be rainy. \n",
    "\n",
    "What is the probability of rain, given the day started cloudy?"
   ]
  },
  {
   "cell_type": "code",
   "execution_count": null,
   "metadata": {},
   "outputs": [],
   "source": [
    "\"\"\"\n",
    "R = raining\n",
    "C = cloudy\n",
    "\n",
    "P(C|R) = 0.5\n",
    "P(C) = 0.4\n",
    "P(R) = 0.1\n",
    "\n",
    "P(R|C) = p(C|R) * P(R) / P(C) = 0.5 * 0.1 / 0.4 = 0.125\n",
    "\n",
    "     \"The probability is 12.5%, this suggests that it is unlikely to rain,but it is not impossible.\n",
    "\"\"\""
   ]
  },
  {
   "cell_type": "markdown",
   "metadata": {},
   "source": [
    "## Challenge 4\n",
    "\n",
    "One thousand people were asked through a telephone survey whether they thought more street lighting is needed at night or not.\n",
    "\n",
    "Out of the 480 men that answered the survey, 324 said yes and 156 said no. On the other hand, out of the 520 women that answered, 351 said yes and 169 said no. \n",
    "\n",
    "We wonder if men and women have a different opinions about the street lighting matter. Is gender relevant or irrelevant to the question?\n",
    "\n",
    "Consider the following events:\n",
    "- The answer is yes, so the person that answered thinks that more street lighting is needed.\n",
    "- The person who answered is a man.\n",
    "\n",
    "We want to know if these events are independent, that is, if the fact of wanting more light depends on whether one is male or female. Are these events independent or not?\n",
    "\n",
    "**Hint**: To clearly compare the answers by gender, it is best to place the data in a table."
   ]
  },
  {
   "cell_type": "code",
   "execution_count": 3,
   "metadata": {},
   "outputs": [
    {
     "name": "stdout",
     "output_type": "stream",
     "text": [
      "        Yes   No  Total\n",
      "Gender                 \n",
      "Male    324  156    480\n",
      "Female  351  169    520\n",
      "Total   675  325   1000\n"
     ]
    }
   ],
   "source": [
    "# your code here\n",
    "\n",
    "from scipy.stats import chi2_contingency\n",
    "import pandas as pd\n",
    "\n",
    "\n",
    "data = {'Gender': ['Male', 'Female', 'Total'],\n",
    "        'Yes': [324, 351, 675],\n",
    "        'No': [156, 169, 325],\n",
    "        'Total': [480, 520, 1000]}\n",
    "df = pd.DataFrame(data)\n",
    "df.set_index('Gender', inplace=True)\n",
    "\n",
    "print(df)"
   ]
  },
  {
   "cell_type": "code",
   "execution_count": 5,
   "metadata": {},
   "outputs": [
    {
     "name": "stdout",
     "output_type": "stream",
     "text": [
      "Chi-squared:  0.0\n",
      "p-value:  1.0\n"
     ]
    }
   ],
   "source": [
    "chi2_stat, p_val, _, _ = chi2_contingency(df)\n",
    "\n",
    "\n",
    "print(\"Chi-squared: \", chi2_stat)\n",
    "print(\"p-value: \", p_val)"
   ]
  },
  {
   "cell_type": "code",
   "execution_count": null,
   "metadata": {},
   "outputs": [],
   "source": [
    "\"\"\"\n",
    "your solution here\n",
    "\"\"\""
   ]
  }
 ],
 "metadata": {
  "kernelspec": {
   "display_name": "Python 3 (ipykernel)",
   "language": "python",
   "name": "python3"
  },
  "language_info": {
   "codemirror_mode": {
    "name": "ipython",
    "version": 3
   },
   "file_extension": ".py",
   "mimetype": "text/x-python",
   "name": "python",
   "nbconvert_exporter": "python",
   "pygments_lexer": "ipython3",
   "version": "3.10.9"
  }
 },
 "nbformat": 4,
 "nbformat_minor": 2
}
