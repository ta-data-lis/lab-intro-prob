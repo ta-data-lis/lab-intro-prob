{
 "cells": [
  {
   "cell_type": "markdown",
   "metadata": {},
   "source": [
    "# Introduction To Probability\n",
    "## Challenge 1\n",
    "\n",
    "A and B are events of a probability space with $(\\omega, \\sigma, P)$ such that $P(A) = 0.3$, $P(B) = 0.6$ and $P(A \\cap B) = 0.1$\n",
    "\n",
    "Which of the following statements are false?\n",
    "* $P(A \\cup B) = 0.6$\n",
    "* $P(A \\cap B^{C}) = 0.2$\n",
    "* $P(A \\cap (B \\cup B^{C})) = 0.4$\n",
    "* $P(A^{C} \\cap B^{C}) = 0.3$\n",
    "* $P((A \\cap B)^{C}) = 0.9$"
   ]
  },
  {
   "cell_type": "code",
   "execution_count": null,
   "metadata": {},
   "outputs": [],
   "source": [
    "\"\"\"\n",
    "your solution here\n",
    "\"\"\"\n",
    "\n",
    "The following are false:\n",
    "𝑃(𝐴∪𝐵)=0.6\n",
    "#𝑃(𝐴∪𝐵)=0.8\n",
    "𝑃(𝐴∩(𝐵∪𝐵𝐶))=0.4\n",
    "#𝑃(𝐴∩(𝐵∪𝐵𝐶))=0.3\n",
    "𝑃(𝐴𝐶∩𝐵𝐶)=0.3\n",
    "#𝑃(𝐴𝐶∩𝐵𝐶)=0.2\n",
    "\n",
    "\n",
    "This is right:\n",
    "𝑃((𝐴∩𝐵)𝐶)=0.9\n",
    "#becomes union of not A and not B\n",
    "# so it is everything but the intersection of A and B\n",
    "\n"
   ]
  },
  {
   "cell_type": "markdown",
   "metadata": {},
   "source": [
    "## Challenge 2\n",
    "There is a box with 10 white balls, 12 red balls and 8 black balls. Calculate the probability of:\n",
    "* Taking a white ball out.\n",
    "* Taking a white ball out after taking a black ball out.\n",
    "* Taking a red ball out after taking a black and a red ball out.\n",
    "* Taking a red ball out after taking a black and a red ball out with reposition.\n",
    "\n",
    "**Hint**: Reposition means putting back the ball into the box after taking it out."
   ]
  },
  {
   "cell_type": "code",
   "execution_count": null,
   "metadata": {},
   "outputs": [],
   "source": [
    "\"\"\"\n",
    "your solution here\n",
    "\"\"\"\n",
    "-The probability that a white ball is pulled is 1/3 or 33.3% \n",
    "- The probability that we pull black, then white is 8/87 or 9.2%\n",
    "- Red,Black,Red 1056/24360 or 4.3%\n",
    "- Red,Black,Red repositio 1056/27000 or 3.9%"
   ]
  },
  {
   "cell_type": "markdown",
   "metadata": {},
   "source": [
    "## Challenge 3\n",
    "\n",
    "You are planning to go on a picnic today but the morning is cloudy. You hate rain so you don't know whether to go out or stay home! To help you make a decision, you gather the following data about rainy days:\n",
    "\n",
    "* 50% of all rainy days start off cloudy!\n",
    "* Cloudy mornings are common. About 40% of days start cloudy. \n",
    "* This month is usually dry so only 3 of 30 days (10%) tend to be rainy. \n",
    "\n",
    "What is the chance of rain during the day?"
   ]
  },
  {
   "cell_type": "code",
   "execution_count": null,
   "metadata": {},
   "outputs": [],
   "source": [
    "\"\"\"\n",
    "your solution here\n",
    "\"\"\"\n",
    "(knowing that it is a rainy day the P of it being cloudy is 50%)\n",
    "\n",
    "# P(rain)= 10%\n",
    "# P(cloudy)= 40%\n",
    "# P(cloudy|rain)= 50%\n",
    "# P(rain|cloudy)= ???\n",
    "\n",
    "# P(A)= 10%\n",
    "# P(B)= 40% \n",
    "# P(B|A)= 50%\n",
    "# P(A|B)- ???\n",
    "\n",
    "P(A|B)= (P(B|A)*P(A))/ P(B)\n",
    "\n",
    "P(A|B)=(0.5*0.1)/0.4\n",
    "P(A|B)= 0.125\n",
    "\n",
    "Probability of rain on the given day = 12.5%\n",
    "\n",
    "# (P(B|A)*P(A)) = P(B∩A) - if there is an intersection\n",
    "#independent doesnt mean they dont have an intersection"
   ]
  },
  {
   "cell_type": "markdown",
   "metadata": {},
   "source": [
    "## Challenge 4\n",
    "\n",
    "One thousand people were asked through a telephone survey whether they thought more street lighting is needed at night or not.\n",
    "\n",
    "Out of the 480 men that answered the survey, 324 said yes and 156 said no. On the other hand, out of the 520 women that answered, 351 said yes and 169 said no. \n",
    "\n",
    "We wonder if men and women have a different opinions about the street lighting matter. Is gender relevant or irrelevant to the question?\n",
    "\n",
    "Consider the following events:\n",
    "- The answer is yes, so the person that answered thinks that more street lighting is needed.\n",
    "- The person who answered is a man.\n",
    "\n",
    "We want to know if these events are independent, that is, if the fact of wanting more light depends on whether one is male or female. Are these events independent or not?\n",
    "\n",
    "**Hint**: To clearly compare the answers by gender, it is best to place the data in a table."
   ]
  },
  {
   "cell_type": "code",
   "execution_count": null,
   "metadata": {},
   "outputs": [],
   "source": [
    "# your code here\n",
    "#we want the percentage of men from ALL votes, hence dividing by 1000 not 480\n",
    "#the probability of total yes is 675/1000\n",
    "#the probability of A intersection B is the same as A*B\n",
    "#bayems theorem is for dependant variables\n",
    "# in ch 2 we dont use bayes because they are independent, in 3 we have to use bayes because they are dependant\n",
    "\n",
    "#if two events are independant then P(A|B)= (P(A)\n",
    "#if they are dependant  P(A|B)= (P(B|A)*P(A))/ P(B)"
   ]
  },
  {
   "cell_type": "code",
   "execution_count": null,
   "metadata": {},
   "outputs": [],
   "source": [
    "\"\"\"\n",
    "your solution here\n",
    "\"\"\"\n",
    "\n",
    "# Total: 1000 people\n",
    "# 480 men (324 yes/ 156 no)\n",
    "# 520 women (351 yes/ 169 no)\n",
    "\n",
    "# If the answers are independant of the gender P(A|B)= (P(A)\n",
    "# We check this with the following formula: P(A)= (P(B|A)*P(A))/ P(B)\n",
    "# A=All Men   B=All Yes\n",
    "\n",
    "0.48= 0.324 / 0.675\n",
    "0.48=0.48\n",
    "\n",
    "# Hence the values are independent and gender does not influence answers.\n",
    "        \n",
    "                        \n"
   ]
  }
 ],
 "metadata": {
  "kernelspec": {
   "display_name": "Python 3",
   "language": "python",
   "name": "python3"
  },
  "language_info": {
   "codemirror_mode": {
    "name": "ipython",
    "version": 3
   },
   "file_extension": ".py",
   "mimetype": "text/x-python",
   "name": "python",
   "nbconvert_exporter": "python",
   "pygments_lexer": "ipython3",
   "version": "3.7.6"
  }
 },
 "nbformat": 4,
 "nbformat_minor": 2
}
