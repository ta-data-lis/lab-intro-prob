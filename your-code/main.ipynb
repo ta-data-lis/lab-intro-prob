{
 "cells": [
  {
   "cell_type": "markdown",
   "source": [
    "# Introduction To Probability"
   ],
   "metadata": {}
  },
  {
   "cell_type": "markdown",
   "source": [
    "## Challenge 1\r\n",
    "\r\n",
    "A and B are events of a probability space with $(\\omega, \\sigma, P)$ such that $P(A) = 0.3$, $P(B) = 0.6$ and $P(A \\cap B) = 0.1$\r\n",
    "\r\n",
    "Which of the following statements are false?\r\n",
    "* $P(A \\cup B) = 0.6$\r\n",
    "* $P(A \\cap B^{C}) = 0.2$\r\n",
    "* $P(A \\cap (B \\cup B^{C})) = 0.4$\r\n",
    "* $P(A^{C} \\cap B^{C}) = 0.3$\r\n",
    "* $P((A \\cap B)^{C}) = 0.9$"
   ],
   "metadata": {}
  },
  {
   "cell_type": "code",
   "execution_count": 9,
   "source": [
    "\"\"\"\r\n",
    "your solution here\r\n",
    "\"\"\"\r\n",
    "##Lets see:\r\n",
    "\r\n",
    "p_a = 0.3            ## probability of a\r\n",
    "p_b = 0.6            ## probability of b\r\n",
    "p_a_b = 0.1          ## intersect probability"
   ],
   "outputs": [],
   "metadata": {}
  },
  {
   "cell_type": "markdown",
   "source": [
    "* $P(A \\cup B) = 0.6$"
   ],
   "metadata": {}
  },
  {
   "cell_type": "code",
   "execution_count": 10,
   "source": [
    "p_aub = p_a + p_b - p_a_b           ## Union probability using (inclusing-exclusion principle)\r\n",
    "p_aub                               ## False"
   ],
   "outputs": [
    {
     "output_type": "execute_result",
     "data": {
      "text/plain": [
       "0.7999999999999999"
      ]
     },
     "metadata": {},
     "execution_count": 10
    }
   ],
   "metadata": {}
  },
  {
   "cell_type": "markdown",
   "source": [
    "* $P(A \\cap B^{C}) = 0.2$"
   ],
   "metadata": {}
  },
  {
   "cell_type": "code",
   "execution_count": 11,
   "source": [
    "p_abc = p_a * (1 - p_b)   ## complement rule\r\n",
    "p_abc                     ## False"
   ],
   "outputs": [
    {
     "output_type": "execute_result",
     "data": {
      "text/plain": [
       "0.12"
      ]
     },
     "metadata": {},
     "execution_count": 11
    }
   ],
   "metadata": {}
  },
  {
   "cell_type": "markdown",
   "source": [
    "* $P(A \\cap (B \\cup B^{C})) = 0.4$"
   ],
   "metadata": {}
  },
  {
   "cell_type": "code",
   "execution_count": 12,
   "source": [
    "p_abbc = p_a * (p_b + (1-p_b))   \r\n",
    "p_abbc                           ## False"
   ],
   "outputs": [
    {
     "output_type": "execute_result",
     "data": {
      "text/plain": [
       "0.3"
      ]
     },
     "metadata": {},
     "execution_count": 12
    }
   ],
   "metadata": {}
  },
  {
   "cell_type": "markdown",
   "source": [
    "* $P(A^{C} \\cap B^{C}) = 0.3$"
   ],
   "metadata": {}
  },
  {
   "cell_type": "code",
   "execution_count": 13,
   "source": [
    "p_acbc = (1-p_a) * (1-p_b)   \r\n",
    "p_acbc                        ## False"
   ],
   "outputs": [
    {
     "output_type": "execute_result",
     "data": {
      "text/plain": [
       "0.27999999999999997"
      ]
     },
     "metadata": {},
     "execution_count": 13
    }
   ],
   "metadata": {}
  },
  {
   "cell_type": "markdown",
   "source": [
    "* $P((A \\cap B)^{C}) = 0.9$"
   ],
   "metadata": {}
  },
  {
   "cell_type": "code",
   "execution_count": 14,
   "source": [
    "p_a_bc = 1 - p_a_b           \r\n",
    "p_a_bc                     ## True"
   ],
   "outputs": [
    {
     "output_type": "execute_result",
     "data": {
      "text/plain": [
       "0.9"
      ]
     },
     "metadata": {},
     "execution_count": 14
    }
   ],
   "metadata": {}
  },
  {
   "cell_type": "markdown",
   "source": [
    "## Challenge 2\r\n",
    "There is a box with 10 white balls, 12 red balls and 8 black balls. Calculate the probability of:\r\n",
    "* Taking a white ball out.\r\n",
    "* Taking a white ball out after taking a black ball out.\r\n",
    "* Taking a red ball out after taking a black and a red ball out.\r\n",
    "* Taking a red ball out after taking a black and a red ball out with reposition.\r\n",
    "\r\n",
    "**Hint**: Reposition means putting back the ball into the box after taking it out."
   ],
   "metadata": {}
  },
  {
   "cell_type": "code",
   "execution_count": 15,
   "source": [
    "\"\"\"\r\n",
    "your solution here\r\n",
    "\"\"\"\r\n",
    "white = 10                            ## number of white balls\r\n",
    "red = 12                              ## number of red balls\r\n",
    "black = 8                             ## number of black balls\r\n",
    "total = white + red + black           ## number total of balls"
   ],
   "outputs": [],
   "metadata": {}
  },
  {
   "cell_type": "markdown",
   "source": [
    "* Taking a white ball out."
   ],
   "metadata": {}
  },
  {
   "cell_type": "code",
   "execution_count": 16,
   "source": [
    "p_white = white / total            ## probability of taking a white ball\r\n",
    "p_white"
   ],
   "outputs": [
    {
     "output_type": "execute_result",
     "data": {
      "text/plain": [
       "0.3333333333333333"
      ]
     },
     "metadata": {},
     "execution_count": 16
    }
   ],
   "metadata": {}
  },
  {
   "cell_type": "markdown",
   "source": [
    "* Taking a white ball out after taking a black ball out."
   ],
   "metadata": {}
  },
  {
   "cell_type": "code",
   "execution_count": 17,
   "source": [
    "p_white_black = (black / total) * (white / (total - 1))      ## probability of taking a white after a black ball\r\n",
    "p_white_black"
   ],
   "outputs": [
    {
     "output_type": "execute_result",
     "data": {
      "text/plain": [
       "0.09195402298850575"
      ]
     },
     "metadata": {},
     "execution_count": 17
    }
   ],
   "metadata": {}
  },
  {
   "cell_type": "markdown",
   "source": [
    "* Taking a red ball out after taking a black and a red ball out."
   ],
   "metadata": {}
  },
  {
   "cell_type": "code",
   "execution_count": 18,
   "source": [
    "p_red_black_red = (black / total) * (red / (total - 1)) * (red / (total - 2))   ## probability of red after black and red ball without reposition\r\n",
    "p_red_black_red"
   ],
   "outputs": [
    {
     "output_type": "execute_result",
     "data": {
      "text/plain": [
       "0.047290640394088666"
      ]
     },
     "metadata": {},
     "execution_count": 18
    }
   ],
   "metadata": {}
  },
  {
   "cell_type": "markdown",
   "source": [
    "* Taking a red ball out after taking a black and a red ball out with reposition."
   ],
   "metadata": {}
  },
  {
   "cell_type": "code",
   "execution_count": 19,
   "source": [
    "p_red_black_red_rep = (black / total) * (red / total) * (red / total)           ## probability of red after black and red ball with reposition\r\n",
    "p_red_black_red_rep"
   ],
   "outputs": [
    {
     "output_type": "execute_result",
     "data": {
      "text/plain": [
       "0.04266666666666667"
      ]
     },
     "metadata": {},
     "execution_count": 19
    }
   ],
   "metadata": {}
  },
  {
   "cell_type": "markdown",
   "source": [
    "## Challenge 3\r\n",
    "\r\n",
    "You are planning to go on a picnic today but the morning is cloudy. You hate rain so you don't know whether to go out or stay home! To help you make a decision, you gather the following data about rainy days:\r\n",
    "\r\n",
    "* Knowing that it is a rainy day, the probability of cloudy is 50%!\r\n",
    "* The probability of any day (rainy or not) starting off cloudy is 40%. \r\n",
    "* This month is usually dry so only 3 of 30 days (10%) tend to be rainy. \r\n",
    "\r\n",
    "What is the probability of rain, given the day started cloudy?"
   ],
   "metadata": {}
  },
  {
   "cell_type": "code",
   "execution_count": 20,
   "source": [
    "\"\"\"\r\n",
    "your solution here\r\n",
    "\"\"\"\r\n",
    "p_cloudy = 0.4\r\n",
    "p_rainy = 0.1\r\n",
    "p_cloudy_in_rainy = 0.5"
   ],
   "outputs": [],
   "metadata": {}
  },
  {
   "cell_type": "code",
   "execution_count": 21,
   "source": [
    "## bayesian theorem\r\n",
    "p_rainy_in_cloudy = (p_cloudy_in_rainy * p_rainy) / p_cloudy\r\n",
    "p_rainy_in_cloudy"
   ],
   "outputs": [
    {
     "output_type": "execute_result",
     "data": {
      "text/plain": [
       "0.125"
      ]
     },
     "metadata": {},
     "execution_count": 21
    }
   ],
   "metadata": {}
  },
  {
   "cell_type": "markdown",
   "source": [
    "## Challenge 4\n",
    "\n",
    "One thousand people were asked through a telephone survey whether they thought more street lighting is needed at night or not.\n",
    "\n",
    "Out of the 480 men that answered the survey, 324 said yes and 156 said no. On the other hand, out of the 520 women that answered, 351 said yes and 169 said no. \n",
    "\n",
    "We wonder if men and women have a different opinions about the street lighting matter. Is gender relevant or irrelevant to the question?\n",
    "\n",
    "Consider the following events:\n",
    "- The answer is yes, so the person that answered thinks that more street lighting is needed.\n",
    "- The person who answered is a man.\n",
    "\n",
    "We want to know if these events are independent, that is, if the fact of wanting more light depends on whether one is male or female. Are these events independent or not?\n",
    "\n",
    "**Hint**: To clearly compare the answers by gender, it is best to place the data in a table."
   ],
   "metadata": {}
  },
  {
   "cell_type": "markdown",
   "source": [
    "| People | Yes | No | Total |\r\n",
    "| --- | --- | --- | --- |\r\n",
    "| Women | 351 | 169 | 520 |\r\n",
    "| Men | 324 | 156 | 480 |"
   ],
   "metadata": {}
  },
  {
   "cell_type": "code",
   "execution_count": 22,
   "source": [
    "\"\"\"\r\n",
    "your solution here\r\n",
    "\"\"\"\r\n",
    "p_man = 480 / 1000\r\n",
    "p_yes = (351 + 324) / 1000"
   ],
   "outputs": [],
   "metadata": {}
  },
  {
   "cell_type": "code",
   "execution_count": 23,
   "source": [
    "## lets see if the intersection of man and yes is equal to man multiplied by yes\r\n",
    "\r\n",
    "p_man_int_yes = 324 / 1000\r\n",
    "p_man_multiplied_yes = p_man * p_yes\r\n",
    "\r\n",
    "p_man_int_yes == p_man_multiplied_yes   ## they are independent"
   ],
   "outputs": [
    {
     "output_type": "execute_result",
     "data": {
      "text/plain": [
       "True"
      ]
     },
     "metadata": {},
     "execution_count": 23
    }
   ],
   "metadata": {}
  }
 ],
 "metadata": {
  "kernelspec": {
   "name": "python3",
   "display_name": "Python 3.8.8 64-bit ('Ironhack': conda)"
  },
  "language_info": {
   "codemirror_mode": {
    "name": "ipython",
    "version": 3
   },
   "file_extension": ".py",
   "mimetype": "text/x-python",
   "name": "python",
   "nbconvert_exporter": "python",
   "pygments_lexer": "ipython3",
   "version": "3.8.8"
  },
  "interpreter": {
   "hash": "f01b1a26c0677924dfb9bb3c0adc99f4a4ad3f1a3781fcda47cbcaac5b4f6244"
  }
 },
 "nbformat": 4,
 "nbformat_minor": 2
}