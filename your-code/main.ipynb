{
 "cells": [
  {
   "cell_type": "markdown",
   "metadata": {},
   "source": [
    "# Introduction To Probability\n",
    "## Challenge 1\n",
    "\n",
    "A and B are events of a probability space with $(\\omega, \\sigma, P)$ such that $P(A) = 0.3$, $P(B) = 0.6$ and $P(A \\cap B) = 0.1$\n",
    "\n",
    "Which of the following statements are false?\n",
    "* $P(A \\cup B) = 0.6$\n",
    "* $P(A \\cap B^{C}) = 0.2$\n",
    "* $P(A \\cap (B \\cup B^{C})) = 0.4$\n",
    "* $P(A^{C} \\cap B^{C}) = 0.3$\n",
    "* $P((A \\cap B)^{C}) = 0.9$"
   ]
  },
  {
   "cell_type": "code",
   "execution_count": null,
   "metadata": {},
   "outputs": [],
   "source": [
    "\"\"\"\n",
    "your solution here\n",
    "\"\"\"\n",
    "\n",
    "#𝑃(𝐴∪𝐵)=0.6 \n",
    "False, correct ist 0.8\n",
    "\n",
    "#𝑃(𝐴∩𝐵')=0.2 \n",
    "True\n",
    "\n",
    "#𝑃(𝐴∩(𝐵∪𝐵'))=0.4 \n",
    "False, its 0.3, because 𝐵∪𝐵'=1, so its =A\n",
    "\n",
    "#𝑃(𝐴'∩𝐵')=0.3 \n",
    "False, its 0,2\n",
    "\n",
    "#𝑃((𝐴∩𝐵)')=0.9\n",
    "True"
   ]
  },
  {
   "cell_type": "markdown",
   "metadata": {},
   "source": [
    "## Challenge 2\n",
    "There is a box with 10 white balls, 12 red balls and 8 black balls. Calculate the probability of:\n",
    "* Taking a white ball out.\n",
    "* Taking a white ball out after taking a black ball out.\n",
    "* Taking a red ball out after taking a black and a red ball out.\n",
    "* Taking a red ball out after taking a black and a red ball out with reposition.\n",
    "\n",
    "**Hint**: Reposition means putting back the ball into the box after taking it out."
   ]
  },
  {
   "cell_type": "code",
   "execution_count": 7,
   "metadata": {},
   "outputs": [
    {
     "name": "stdout",
     "output_type": "stream",
     "text": [
      "0.3333333333333333\n",
      "0.09195402298850575\n",
      "0.04334975369458128\n",
      "0.10666666666666667\n"
     ]
    }
   ],
   "source": [
    "\"\"\"\n",
    "your solution here\n",
    "\"\"\"\n",
    "w=10\n",
    "r=12\n",
    "b=8\n",
    "tot=w+r+b\n",
    "\n",
    "#taking a white ball: \n",
    "print(w/tot)\n",
    "\n",
    "#Taking a white ball out after taking a black ball out\n",
    "print((b/tot)*(w/(tot-1)))\n",
    "\n",
    "\n",
    "#Taking a red ball out after taking a black and a red ball out:\n",
    "print((r/tot)*(b/(tot-1))*(r-1)/(tot-2))\n",
    "\n",
    "#Taking a red ball out after taking a black and a red ball out with reposition.\n",
    "print((b/tot)*(r/(tot)))"
   ]
  },
  {
   "cell_type": "markdown",
   "metadata": {},
   "source": [
    "## Challenge 3\n",
    "\n",
    "You are planning to go on a picnic today but the morning is cloudy. You hate rain so you don't know whether to go out or stay home! To help you make a decision, you gather the following data about rainy days:\n",
    "\n",
    "* 50% of all rainy days start off cloudy!\n",
    "* Cloudy mornings are common. About 40% of days start cloudy. \n",
    "* This month is usually dry so only 3 of 30 days (10%) tend to be rainy. \n",
    "\n",
    "What is the chance of rain during the day?"
   ]
  },
  {
   "cell_type": "code",
   "execution_count": 8,
   "metadata": {},
   "outputs": [
    {
     "data": {
      "text/plain": [
       "0.125"
      ]
     },
     "execution_count": 8,
     "metadata": {},
     "output_type": "execute_result"
    }
   ],
   "source": [
    "\"\"\"\n",
    "your solution here\n",
    "\n",
    "\n",
    "P(start cloudy)= 0.4\n",
    "P(rainy) = 0.1\n",
    "P(start cloudy | rainy) = 0.5\n",
    "\n",
    "Baysen Theorem:\n",
    "\n",
    "P(rainy|start cloudy) = P(start cloudy | rainy)*P(rainy)/P(start cloudy)\n",
    "\n",
    "\"\"\"\n",
    "0.5*0.1/0.4"
   ]
  },
  {
   "cell_type": "markdown",
   "metadata": {},
   "source": [
    "## Challenge 4\n",
    "\n",
    "One thousand people were asked through a telephone survey whether they thought more street lighting is needed at night or not.\n",
    "\n",
    "Out of the 480 men that answered the survey, 324 said yes and 156 said no. On the other hand, out of the 520 women that answered, 351 said yes and 169 said no. \n",
    "\n",
    "We wonder if men and women have a different opinions about the street lighting matter. Is gender relevant or irrelevant to the question?\n",
    "\n",
    "Consider the following events:\n",
    "- The answer is yes, so the person that answered thinks that more street lighting is needed.\n",
    "- The person who answered is a man.\n",
    "\n",
    "We want to know if these events are independent, that is, if the fact of wanting more light depends on whether one is male or female. Are these events independent or not?\n",
    "\n",
    "**Hint**: To clearly compare the answers by gender, it is best to place the data in a table."
   ]
  },
  {
   "cell_type": "code",
   "execution_count": null,
   "metadata": {},
   "outputs": [],
   "source": [
    "# your code here"
   ]
  },
  {
   "cell_type": "code",
   "execution_count": 22,
   "metadata": {},
   "outputs": [
    {
     "name": "stdout",
     "output_type": "stream",
     "text": [
      "0.675\n",
      "0.5\n"
     ]
    },
    {
     "data": {
      "text/plain": [
       "'---> they are independet, it doesnt matter if its a women or a men, its always .675 to get a yes'"
      ]
     },
     "execution_count": 22,
     "metadata": {},
     "output_type": "execute_result"
    }
   ],
   "source": [
    "\"\"\"\n",
    "your solution here\n",
    "\n",
    "we assume, that half of the population are women and half are men\n",
    "\n",
    "p(m)= 0.5\n",
    "p(w)= 0.5\n",
    "\n",
    "p(y|m)= 324/(324+156)\n",
    "\n",
    "p(y|w)= 351/(520)\n",
    "\n",
    "\"\"\"\n",
    "\"\"\"\n",
    "The answer is yes, so the person that answered thinks that more street lighting is needed.\n",
    "p(y) =p(m)*p(y|m)*p(w)+p(w)*p(y|w)\n",
    "\"\"\"\n",
    "print(0.5*(324/(324+156))+0.5*351/(520))\n",
    "\n",
    "\"\"\"\n",
    "The person who answered is a man.\n",
    "p(m|y) = P(m) * p(y|m)/ p (y) \n",
    "\"\"\" \n",
    "print(0.5*(324/(324+156)) / 0.675)\n",
    "## =0.5 --> p(m) = p(m|y) --> independence\n",
    "\n",
    "\n",
    "\n",
    "#also true for: \n",
    "#p(y|m)= p(y) \n",
    "324/(324+156)\n",
    "\n",
    "#p(y|w)= p(y)\n",
    "351/(520)\n",
    "\n",
    "\"---> they are independet, it doesnt matter if its a women or a men, its always .675 to get a yes\""
   ]
  },
  {
   "cell_type": "code",
   "execution_count": null,
   "metadata": {},
   "outputs": [],
   "source": []
  }
 ],
 "metadata": {
  "kernelspec": {
   "display_name": "Python 3",
   "language": "python",
   "name": "python3"
  },
  "language_info": {
   "codemirror_mode": {
    "name": "ipython",
    "version": 3
   },
   "file_extension": ".py",
   "mimetype": "text/x-python",
   "name": "python",
   "nbconvert_exporter": "python",
   "pygments_lexer": "ipython3",
   "version": "3.7.4"
  }
 },
 "nbformat": 4,
 "nbformat_minor": 2
}
