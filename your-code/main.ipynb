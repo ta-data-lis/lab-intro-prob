{
 "cells": [
  {
   "cell_type": "markdown",
   "metadata": {},
   "source": [
    "# Introduction To Probability\n",
    "## Challenge 1\n",
    "\n",
    "A and B are events of a probability space with $(\\omega, \\sigma, P)$ such that $P(A) = 0.3$, $P(B) = 0.6$ and $P(A \\cap B) = 0.1$\n",
    "\n",
    "Which of the following statements are false?\n",
    "* $P(A \\cup B) = 0.6$\n",
    "* $P(A \\cap B^{C}) = 0.2$\n",
    "* $P(A \\cap (B \\cup B^{C})) = 0.4$\n",
    "* $P(A^{C} \\cap B^{C}) = 0.3$\n",
    "* $P((A \\cap B)^{C}) = 0.9$"
   ]
  },
  {
   "cell_type": "code",
   "execution_count": null,
   "metadata": {},
   "outputs": [],
   "source": [
    "\"\"\"\n",
    "𝑃(𝐴 ∪ 𝐵) = 0.6 False = 0.8\n",
    "𝑃(𝐴 ∩ 𝐵𝐶) = 0.2 True\n",
    "𝑃(𝐴 ∩ (𝐵 ∪ 𝐵𝐶)) = 0.4 False = 0.3\n",
    "𝑃(𝐴𝐶 ∩ 𝐵𝐶) = 0.3 False = 0.2\n",
    "𝑃((𝐴 ∩ 𝐵)𝐶) = 0.9 True\n",
    "\"\"\""
   ]
  },
  {
   "cell_type": "markdown",
   "metadata": {},
   "source": [
    "## Challenge 2\n",
    "There is a box with 10 white balls, 12 red balls and 8 black balls. Calculate the probability of:\n",
    "* Taking a white ball out.\n",
    "* Taking a white ball out after taking a black ball out.\n",
    "* Taking a red ball out after taking a black and a red ball out.\n",
    "* Taking a red ball out after taking a black and a red ball out with reposition.\n",
    "\n",
    "**Hint**: Reposition means putting back the ball into the box after taking it out."
   ]
  },
  {
   "cell_type": "code",
   "execution_count": 40,
   "metadata": {},
   "outputs": [
    {
     "name": "stdout",
     "output_type": "stream",
     "text": [
      "Prob. white ball: 0.3333333333333333\n",
      "Prob. white after black already taken: 0.1103448275862069\n",
      "Prob. red after black and red already taken: 0.04334975369458128\n",
      "Prob. red after black and red already taken, with reposition: 0.04266666666666667\n"
     ]
    }
   ],
   "source": [
    "print('Prob. white ball:', 10/30)\n",
    "print('Prob. white after black already taken:', (8/30) * (12/29))\n",
    "print('Prob. red after black and red already taken:', (12/30) * (8/29) * (11/28))\n",
    "print('Prob. red after black and red already taken, with reposition:', (12/30) * (8/30) * (12/30))"
   ]
  },
  {
   "cell_type": "markdown",
   "metadata": {},
   "source": [
    "## Challenge 3\n",
    "\n",
    "You are planning to go on a picnic today but the morning is cloudy. You hate rain so you don't know whether to go out or stay home! To help you make a decision, you gather the following data about rainy days:\n",
    "\n",
    "* 50% of all rainy days start off cloudy!\n",
    "* Cloudy mornings are common. About 40% of days start cloudy. \n",
    "* This month is usually dry so only 3 of 30 days (10%) tend to be rainy. \n",
    "\n",
    "What is the chance of rain during the day?"
   ]
  },
  {
   "cell_type": "code",
   "execution_count": null,
   "metadata": {},
   "outputs": [],
   "source": [
    "\"\"\"\n",
    "P(Cloudy|Rain) = 0.5\n",
    "P(Cloudy) = 0.4\n",
    "P(Rain) = 0.1\n",
    "\n",
    "Applying the Bayes theorem:\n",
    "P(Rain|Cloudy) = P(Cloudy|Rain) * P(Rain) / P(Cloudy) = ?\n",
    "               = 0.5 * 0.1 / 0.4 = 0.125\n",
    "\"\"\"\n"
   ]
  },
  {
   "cell_type": "markdown",
   "metadata": {},
   "source": [
    "## Challenge 4\n",
    "\n",
    "One thousand people were asked through a telephone survey whether they thought more street lighting is needed at night or not.\n",
    "\n",
    "Out of the 480 men that answered the survey, 324 said yes and 156 said no. On the other hand, out of the 520 women that answered, 351 said yes and 169 said no. \n",
    "\n",
    "We wonder if men and women have a different opinions about the street lighting matter. Is gender relevant or irrelevant to the question?\n",
    "\n",
    "Consider the following events:\n",
    "- The answer is yes, so the person that answered thinks that more street lighting is needed.\n",
    "- The person who answered is a man.\n",
    "\n",
    "We want to know if these events are independent, that is, if the fact of wanting more light depends on whether one is male or female. Are these events independent or not?\n",
    "\n",
    "**Hint**: To clearly compare the answers by gender, it is best to place the data in a table."
   ]
  },
  {
   "cell_type": "code",
   "execution_count": null,
   "metadata": {},
   "outputs": [],
   "source": [
    "# your code here"
   ]
  },
  {
   "cell_type": "code",
   "execution_count": null,
   "metadata": {},
   "outputs": [],
   "source": [
    "\"\"\"\n",
    "480 men:\n",
    " - 324 yes\n",
    " - 156 no\n",
    "\n",
    "520 women:\n",
    " - 351 yes\n",
    " - 169 no\n",
    " \n",
    " Total universe: 480 + 520 = 1000 people\n",
    " \n",
    " So, I did a table like the one in class to get everything nice and tidy and to be able to better\n",
    " understand everthing.\n",
    " I got the probabilities of the (M + L) and (M + NL), same for female, and then calculated the\n",
    " marginal probabilities.\n",
    " Finally, to check if they are independent or not, I did the * on the marginal probabilities, and\n",
    " I saw that the values matched with the ones on the table, exactly. So that means that they are,\n",
    " in fact, independent events.\n",
    " \n",
    " A quick exemple: P(M) = 480/1000 = 0.48\n",
    " P(L) = 0.675.\n",
    " Verification = P(M) * P(L) = 0.324 - which is the same as P(M ∩ L)\n",
    " This means they are independent events.\n",
    "\"\"\""
   ]
  }
 ],
 "metadata": {
  "kernelspec": {
   "display_name": "Python 3",
   "language": "python",
   "name": "python3"
  },
  "language_info": {
   "codemirror_mode": {
    "name": "ipython",
    "version": 3
   },
   "file_extension": ".py",
   "mimetype": "text/x-python",
   "name": "python",
   "nbconvert_exporter": "python",
   "pygments_lexer": "ipython3",
   "version": "3.7.5"
  }
 },
 "nbformat": 4,
 "nbformat_minor": 2
}
