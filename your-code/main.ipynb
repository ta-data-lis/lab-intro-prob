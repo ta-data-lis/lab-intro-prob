{
 "cells": [
  {
   "cell_type": "markdown",
   "metadata": {},
   "source": [
    "# Introduction To Probability\n",
    "## Challenge 1\n",
    "\n",
    "A and B are events of a probability space with $(\\omega, \\sigma, P)$ such that $P(A) = 0.3$, $P(B) = 0.6$ and $P(A \\cap B) = 0.1$\n",
    "\n",
    "Which of the following statements are false?\n",
    "* $P(A \\cup B) = 0.6$\n",
    "* $P(A \\cap B^{C}) = 0.2$\n",
    "* $P(A \\cap (B \\cup B^{C})) = 0.4$\n",
    "* $P(A^{C} \\cap B^{C}) = 0.3$\n",
    "* $P((A \\cap B)^{C}) = 0.9$"
   ]
  },
  {
   "cell_type": "code",
   "execution_count": 5,
   "metadata": {},
   "outputs": [
    {
     "data": {
      "text/plain": [
       "'\\nP(A U B) = P(A) + P(B) - P(A & B)\\n         = 0.3 + 0.6 - 0.1\\n         = 0.8\\nThe first staement is false.\\n\\nThe second statement is true (based on venn diagram.)\\n\\nThe third statement is False (= 0.3)\\n - The union of B and Bc is everything. So the P(A & everything) is P(A)\\n \\nThe fourth statement is false (= 0.2, based on veen diagram).\\n\\nThe fifth statement is true (1 - P(A & B) = 0.9)\\n\\n\\n'"
      ]
     },
     "execution_count": 5,
     "metadata": {},
     "output_type": "execute_result"
    }
   ],
   "source": [
    "\"\"\"\n",
    "P(A U B) = P(A) + P(B) - P(A & B)\n",
    "         = 0.3 + 0.6 - 0.1\n",
    "         = 0.8\n",
    "The first staement is false.\n",
    "\n",
    "The second statement is true (based on venn diagram.)\n",
    "\n",
    "The third statement is False (= 0.3)\n",
    " - The union of B and Bc is everything. So the P(A & everything) is P(A)\n",
    " \n",
    "The fourth statement is false (= 0.2, based on veen diagram).\n",
    "\n",
    "The fifth statement is true (1 - P(A & B) = 0.9)\n",
    "\n",
    "\n",
    "\"\"\""
   ]
  },
  {
   "cell_type": "markdown",
   "metadata": {},
   "source": [
    "## Challenge 2\n",
    "There is a box with 10 white balls, 12 red balls and 8 black balls. Calculate the probability of:\n",
    "* Taking a white ball out.\n",
    "* Taking a white ball out after taking a black ball out.\n",
    "* Taking a red ball out after taking a black and a red ball out.\n",
    "* Taking a red ball out after taking a black and a red ball out with reposition.\n",
    "\n",
    "**Hint**: Reposition means putting back the ball into the box after taking it out."
   ]
  },
  {
   "cell_type": "code",
   "execution_count": 3,
   "metadata": {},
   "outputs": [
    {
     "data": {
      "text/plain": [
       "\"\\nWasn't sure if we were meant to calculate both events or just the one event. \\nTotal balls = 30\\n\\nP(white ball) = 10/30 = 1/3\\n\\nP(white ball after black)  = 10/29\\n\\nP(red ball after black and red) = 11/28\\n\\nP(red ball with reposition) = 12/30\\n\\n\\nIf we were meant to calculate both probabilities:\\n\\nP(white ball) = 10/30 = 1/3\\n\\nP(white ball after black) = 8/30 * 10/29\\n\\nP(red ball after black and red) = 11/28 * 8/29 * 12/30\\n\\nP(red ball with reposition) = 12/30 * 8/30 * 12/30\\n\\n\""
      ]
     },
     "execution_count": 3,
     "metadata": {},
     "output_type": "execute_result"
    }
   ],
   "source": [
    "\"\"\"\n",
    "Wasn't sure if we were meant to calculate both events or just the one event. \n",
    "Total balls = 30\n",
    "\n",
    "P(white ball) = 10/30 = 1/3\n",
    "\n",
    "P(white ball after black)  = 10/29\n",
    "\n",
    "P(red ball after black and red) = 11/28\n",
    "\n",
    "P(red ball with reposition) = 12/30\n",
    "\n",
    "\n",
    "If we were meant to calculate both probabilities:\n",
    "\n",
    "P(white ball) = 10/30 = 1/3\n",
    "\n",
    "P(white ball after black) = 8/30 * 10/29\n",
    "\n",
    "P(red ball after black and red) = 11/28 * 8/29 * 12/30\n",
    "\n",
    "P(red ball with reposition) = 12/30 * 8/30 * 12/30\n",
    "\n",
    "\"\"\""
   ]
  },
  {
   "cell_type": "markdown",
   "metadata": {},
   "source": [
    "## Challenge 3\n",
    "\n",
    "You are planning to go on a picnic today but the morning is cloudy. You hate rain so you don't know whether to go out or stay home! To help you make a decision, you gather the following data about rainy days:\n",
    "\n",
    "* 50% of all rainy days start off cloudy!\n",
    "* Cloudy mornings are common. About 40% of days start cloudy. \n",
    "* This month is usually dry so only 3 of 30 days (10%) tend to be rainy. \n",
    "\n",
    "What is the chance of rain during the day?"
   ]
  },
  {
   "cell_type": "code",
   "execution_count": 2,
   "metadata": {},
   "outputs": [
    {
     "data": {
      "text/plain": [
       "'\\nP(C|R) = 0.5\\nP(R) = 0.1\\nP(C) = 0.4\\n\\nWe want to know P(R|C)\\n\\nP(C & R) = 0.5 * 0.1 = 0.05\\n\\nP(R|C) = P(C & R) / P(C)\\n       = 0.05/0.4\\n       = 0.125\\n'"
      ]
     },
     "execution_count": 2,
     "metadata": {},
     "output_type": "execute_result"
    }
   ],
   "source": [
    "\"\"\"\n",
    "P(C|R) = 0.5\n",
    "P(R) = 0.1\n",
    "P(C) = 0.4\n",
    "\n",
    "We want to know P(R|C)\n",
    "\n",
    "P(C & R) = 0.5 * 0.1 = 0.05\n",
    "\n",
    "P(R|C) = P(C & R) / P(C)\n",
    "       = 0.05/0.4\n",
    "       = 0.125\n",
    "\"\"\""
   ]
  },
  {
   "cell_type": "markdown",
   "metadata": {},
   "source": [
    "## Challenge 4\n",
    "\n",
    "One thousand people were asked through a telephone survey whether they thought more street lighting is needed at night or not.\n",
    "\n",
    "Out of the 480 men that answered the survey, 324 said yes and 156 said no. On the other hand, out of the 520 women that answered, 351 said yes and 169 said no. \n",
    "\n",
    "We wonder if men and women have a different opinions about the street lighting matter. Is gender relevant or irrelevant to the question?\n",
    "\n",
    "Consider the following events:\n",
    "- The answer is yes, so the person that answered thinks that more street lighting is needed.\n",
    "- The person who answered is a man.\n",
    "\n",
    "We want to know if these events are independent, that is, if the fact of wanting more light depends on whether one is male or female. Are these events independent or not?\n",
    "\n",
    "**Hint**: To clearly compare the answers by gender, it is best to place the data in a table."
   ]
  },
  {
   "cell_type": "markdown",
   "metadata": {},
   "source": [
    "| Gender  | Yes  | No |  |\n",
    "|---|---|---|---|\n",
    "| Men  | 0.324  | 0.156 | 0.48 |\n",
    "| Women  | 0.351  | 0.169 | 0.52 |\n",
    "|   | 0.675  | 0.325 |"
   ]
  },
  {
   "cell_type": "code",
   "execution_count": null,
   "metadata": {},
   "outputs": [],
   "source": [
    "\"\"\"\n",
    "It looks like these events are independent.\n",
    "Multiplying the marginal probabilities gives us the same result as the joint probabilities.\n",
    "So I guess this means gender does not matter?\n",
    "\"\"\""
   ]
  }
 ],
 "metadata": {
  "kernelspec": {
   "display_name": "Python 3",
   "language": "python",
   "name": "python3"
  },
  "language_info": {
   "codemirror_mode": {
    "name": "ipython",
    "version": 3
   },
   "file_extension": ".py",
   "mimetype": "text/x-python",
   "name": "python",
   "nbconvert_exporter": "python",
   "pygments_lexer": "ipython3",
   "version": "3.7.4"
  }
 },
 "nbformat": 4,
 "nbformat_minor": 2
}
