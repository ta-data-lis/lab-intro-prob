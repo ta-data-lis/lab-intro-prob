{
 "cells": [
  {
   "cell_type": "markdown",
   "metadata": {},
   "source": [
    "# Introduction To Probability\n",
    "## Challenge 1\n",
    "\n",
    "A and B are events of a probability space with $(\\omega, \\sigma, P)$ such that $P(A) = 0.3$, $P(B) = 0.6$ and $P(A \\cap B) = 0.1$\n",
    "\n",
    "Which of the following statements are false?\n",
    "* $P(A \\cup B) = 0.6$\n",
    "* $P(A \\cap B^{C}) = 0.2$\n",
    "* $P(A \\cap (B \\cup B^{C})) = 0.4$\n",
    "* $P(A^{C} \\cap B^{C}) = 0.3$\n",
    "* $P((A \\cap B)^{C}) = 0.9$"
   ]
  },
  {
   "cell_type": "code",
   "execution_count": null,
   "metadata": {},
   "outputs": [],
   "source": [
    "\"\"\"\n",
    "The false statements are:\n",
    "\n",
    "$P(A \\cup B) = 0.6$\n",
    "$P(A \\cap (B \\cup B^{C})) = 0.4$\n",
    "$P(A^{C} \\cap B^{C}) = 0.3$\n",
    "\"\"\""
   ]
  },
  {
   "attachments": {},
   "cell_type": "markdown",
   "metadata": {},
   "source": [
    "## Challenge 2\n",
    "There is a box with 10 white balls, 12 red balls and 8 black balls. Calculate the probability of:\n",
    "* Taking a white ball out.\n",
    "* Taking a white ball out after taking a black ball out.\n",
    "* Taking a red ball out after taking a black and a red ball out.\n",
    "* Taking a red ball out after taking a black and a red ball out with reposition.\n",
    "\n",
    "**Hint**: Reposition means putting back the ball into the box after taking it out."
   ]
  },
  {
   "cell_type": "code",
   "execution_count": null,
   "metadata": {},
   "outputs": [],
   "source": [
    "\"\"\"\n",
    "The probability of taking a white ball out is $P(\\text{white}) = \\frac{10}{30} = \\frac{1}{3}$.\n",
    "\n",
    "The probability of taking a black ball out first, and then a white ball out is $P(\\text{black and then white}) = P(\\text{black}) \\times P(\\text{white},|,\\text{black}) = \\frac{8}{30} \\times \\frac{10}{29} \\approx 0.091$.\n",
    "\n",
    "The probability of taking a black ball out first, then a red ball out, and then a white ball out is $P(\\text{black, red, and white}) = P(\\text{black}) \\times P(\\text{red},|,\\text{black}) \\times P(\\text{white},|,\\text{black and red}) = \\frac{8}{30} \\times \\frac{12}{29} \\times \\frac{10}{28} \\approx 0.041$.\n",
    "\n",
    "The probability of taking a black ball out first, putting it back, then taking a red ball out, putting it back, and finally taking a white ball out is $P(\\text{black, red, and white with reposition}) = P(\\text{black}) \\times P(\\text{red}) \\times P(\\text{white}) = \\frac{8}{30} \\times \\frac{12}{30} \\times \\frac{10}{30} = \\frac{1}{9} \\approx 0.111$. Here, we used the fact that repositioning means that the probability of selecting any ball does not change between picks.\n",
    "\"\"\""
   ]
  },
  {
   "cell_type": "markdown",
   "metadata": {},
   "source": [
    "## Challenge 3\n",
    "\n",
    "You are planning to go on a picnic today but the morning is cloudy. You hate rain so you don't know whether to go out or stay home! To help you make a decision, you gather the following data about rainy days:\n",
    "\n",
    "* Knowing that it is a rainy day, the probability of cloudy is 50%!\n",
    "* The probability of any day (rainy or not) starting off cloudy is 40%. \n",
    "* This month is usually dry so only 3 of 30 days (10%) tend to be rainy. \n",
    "\n",
    "What is the probability of rain, given the day started cloudy?"
   ]
  },
  {
   "cell_type": "code",
   "execution_count": null,
   "metadata": {},
   "outputs": [],
   "source": [
    "\"\"\"\n",
    "The probability of rain, given that the day started cloudy, is approximately 0.12 or 12%. This suggests that it is unlikely to rain, given that the day started cloudy, but there is still a small chance of rain.\n",
    "\"\"\""
   ]
  },
  {
   "cell_type": "markdown",
   "metadata": {},
   "source": [
    "## Challenge 4\n",
    "\n",
    "One thousand people were asked through a telephone survey whether they thought more street lighting is needed at night or not.\n",
    "\n",
    "Out of the 480 men that answered the survey, 324 said yes and 156 said no. On the other hand, out of the 520 women that answered, 351 said yes and 169 said no. \n",
    "\n",
    "We wonder if men and women have a different opinions about the street lighting matter. Is gender relevant or irrelevant to the question?\n",
    "\n",
    "Consider the following events:\n",
    "- The answer is yes, so the person that answered thinks that more street lighting is needed.\n",
    "- The person who answered is a man.\n",
    "\n",
    "We want to know if these events are independent, that is, if the fact of wanting more light depends on whether one is male or female. Are these events independent or not?\n",
    "\n",
    "**Hint**: To clearly compare the answers by gender, it is best to place the data in a table."
   ]
  },
  {
   "cell_type": "code",
   "execution_count": 1,
   "metadata": {},
   "outputs": [
    {
     "name": "stdout",
     "output_type": "stream",
     "text": [
      "The events 'the answer is yes' and 'the person who answered is a man' are independent.\n"
     ]
    }
   ],
   "source": [
    "# your code here\n",
    "import numpy as np\n",
    "import pandas as pd\n",
    "\n",
    "# Define the contingency table\n",
    "data = {'Gender': ['Men', 'Women', 'Total'],\n",
    "        'Yes': [324, 351, 675],\n",
    "        'No': [156, 169, 325],\n",
    "        'Total': [480, 520, 1000]}\n",
    "df = pd.DataFrame(data).set_index('Gender')\n",
    "\n",
    "# Calculate the conditional probabilities\n",
    "P_A_given_B = df.loc['Men', 'Yes'] / df.loc['Men', 'Total']\n",
    "P_A_given_notB = df.loc['Women', 'Yes'] / df.loc['Women', 'Total']\n",
    "\n",
    "# Check if the events are independent\n",
    "if np.isclose(P_A_given_B, P_A_given_notB):\n",
    "    print(\"The events 'the answer is yes' and 'the person who answered is a man' are independent.\")\n",
    "else:\n",
    "    print(\"The events 'the answer is yes' and 'the person who answered is a man' are not independent.\")"
   ]
  },
  {
   "cell_type": "code",
   "execution_count": null,
   "metadata": {},
   "outputs": [],
   "source": [
    "\"\"\"\n",
    "This confirms that the events are independent.\n",
    "\"\"\""
   ]
  }
 ],
 "metadata": {
  "kernelspec": {
   "display_name": "Python 3",
   "language": "python",
   "name": "python3"
  },
  "language_info": {
   "codemirror_mode": {
    "name": "ipython",
    "version": 3
   },
   "file_extension": ".py",
   "mimetype": "text/x-python",
   "name": "python",
   "nbconvert_exporter": "python",
   "pygments_lexer": "ipython3",
   "version": "3.10.7"
  }
 },
 "nbformat": 4,
 "nbformat_minor": 2
}
