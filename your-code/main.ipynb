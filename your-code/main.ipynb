{
 "cells": [
  {
   "cell_type": "markdown",
   "metadata": {},
   "source": [
    "# Introduction To Probability\n",
    "## Challenge 1\n",
    "\n",
    "A and B are events of a probability space with $(\\omega, \\sigma, P)$ such that $P(A) = 0.3$, $P(B) = 0.6$ and $P(A \\cap B) = 0.1$\n",
    "\n",
    "Which of the following statements are false?\n",
    "* $P(A \\cup B) = 0.6$\n",
    "* $P(A \\cap B^{C}) = 0.2$\n",
    "* $P(A \\cap (B \\cup B^{C})) = 0.4$\n",
    "* $P(A^{C} \\cap B^{C}) = 0.3$\n",
    "* $P((A \\cap B)^{C}) = 0.9$"
   ]
  },
  {
   "cell_type": "code",
   "execution_count": null,
   "metadata": {},
   "outputs": [],
   "source": [
    "\"\"\"\n",
    "your solution here\n",
    "\"\"\"\n",
    "\n",
    "𝑃(𝐴∪𝐵)=0.6  - False (0.8)\n",
    "𝑃(𝐴∩𝐵𝐶)=0.2 - True (0.2)\n",
    "𝑃(𝐴∩(𝐵∪𝐵𝐶))= 0.4 - False (0.3 - the intersection is the A itself? for me it doenst make much sence... its been difficult to see this.)\n",
    "𝑃(𝐴𝐶∩𝐵𝐶)=0.3 - False (0.2)\n",
    "𝑃((𝐴∩𝐵)𝐶)=0.9 -  True - (because its everything less the intersection = 0.9)\n",
    "\n"
   ]
  },
  {
   "cell_type": "markdown",
   "metadata": {},
   "source": [
    "## Challenge 2\n",
    "There is a box with 10 white balls, 12 red balls and 8 black balls. Calculate the probability of:\n",
    "* Taking a white ball out.\n",
    "* Taking a white ball out after taking a black ball out.\n",
    "* Taking a red ball out after taking a black and a red ball out.\n",
    "* Taking a red ball out after taking a black and a red ball out with reposition.\n",
    "\n",
    "**Hint**: Reposition means putting back the ball into the box after taking it out."
   ]
  },
  {
   "cell_type": "code",
   "execution_count": null,
   "metadata": {},
   "outputs": [],
   "source": [
    "\"\"\"\n",
    "your solution here\n",
    "\n",
    "1- Taking a white ball out: 1/30 or 1/3\n",
    "\n",
    "2- Taking a white ball out after taking a black ball out = 0.09\n",
    "\n",
    "3- Taking a red ball out after taking a black and a red ball out = 0.043\n",
    "\n",
    "4 - Taking a red ball out after taking a black and a red ball out with reposition. = 0.042\n",
    "\n",
    "have everything on my notebook :)\n",
    "\n",
    "\n",
    "\"\"\""
   ]
  },
  {
   "cell_type": "markdown",
   "metadata": {},
   "source": [
    "## Challenge 3\n",
    "\n",
    "You are planning to go on a picnic today but the morning is cloudy. You hate rain so you don't know whether to go out or stay home! To help you make a decision, you gather the following data about rainy days:\n",
    "\n",
    "* 50% of all rainy days start off cloudy!\n",
    "* Cloudy mornings are common. About 40% of days start cloudy. \n",
    "* This month is usually dry so only 3 of 30 days (10%) tend to be rainy. \n",
    "\n",
    "What is the chance of rain during the day?"
   ]
  },
  {
   "cell_type": "code",
   "execution_count": null,
   "metadata": {},
   "outputs": [],
   "source": [
    "\"\"\"\n",
    "your solution here\n",
    "\n",
    "\n",
    "P (A | B) = P (B | A) * P (A)/ P (B)\n",
    "\n",
    "\n",
    "P(C|R) = 0.5  (c given r)\n",
    "P(C)= 0.4 (probability of cloud days)\n",
    "P(R)= 0.1 (probality of rain)\n",
    "\n",
    "P(C|R) = P(R|C) * P(C)/ P(R) ( copy the last one and devide for the second)\n",
    "0.5 = (P(R|C) * P(0.4))/P(0.1)\n",
    "\n",
    "What i want to know :\n",
    " \n",
    "P(R|C) = (P(C|R) * P(R))/P(C)\n",
    "P(R|C) = (0.5 * 0.1)/0.4\n",
    "P(R|C) = 0.125 or 12.5%\n",
    "\n",
    "\n",
    "\"\"\"\n",
    "\n",
    "#studyng:\n",
    "P (A)\n",
    "P (B | A)\n",
    "P (B)\n",
    "P (A | B)\n",
    "Prior Probability - probability of A in the first palce (before B)\n",
    "Likelihood - probability of event B after having event A\n",
    "Marginal Probability - probability of event B at all, with or without A\n",
    "Posterior Probability - probability of having gotten B with A as hypothesis\n",
    "P (A | B) = P (B | A) * P (A)\n",
    "P (B)\n",
    "\n",
    "ex: \n",
    "Which tells us:\t \thow often A happens given that B happens, written P(A|B),\n",
    "When we know:\t \thow often B happens given that A happens, written P(B|A)\n",
    "and how likely A is on its own, written P(A)\n",
    "and how likely B is on its own, written P(B)\n",
    "\n",
    "Example:\n",
    "dangerous fires are rare (1%)\n",
    "but smoke is fairly common (10%) due to barbecues,\n",
    "and 90% of dangerous fires make smoke\n",
    "We can then discover the probability of dangerous Fire when there is Smoke:\n",
    "\n",
    "P(Fire|Smoke) =\t P(Fire) P(Smoke|Fire)P(Smoke) \n",
    "=\t 1% x 90% 10% \n",
    "=\t9%"
   ]
  },
  {
   "cell_type": "markdown",
   "metadata": {},
   "source": [
    "## Challenge 4\n",
    "\n",
    "One thousand people were asked through a telephone survey whether they thought more street lighting is needed at night or not.\n",
    "\n",
    "Out of the 480 men that answered the survey, 324 said yes and 156 said no. On the other hand, out of the 520 women that answered, 351 said yes and 169 said no. \n",
    "\n",
    "We wonder if men and women have a different opinions about the street lighting matter. Is gender relevant or irrelevant to the question?\n",
    "\n",
    "Consider the following events:\n",
    "- The answer is yes, so the person that answered thinks that more street lighting is needed.\n",
    "- The person who answered is a man.\n",
    "\n",
    "We want to know if these events are independent, that is, if the fact of wanting more light depends on whether one is male or female. Are these events independent or not?\n",
    "\n",
    "**Hint**: To clearly compare the answers by gender, it is best to place the data in a table."
   ]
  },
  {
   "cell_type": "code",
   "execution_count": null,
   "metadata": {},
   "outputs": [],
   "source": [
    "# your code here\n",
    "\n",
    "\n"
   ]
  },
  {
   "cell_type": "code",
   "execution_count": null,
   "metadata": {},
   "outputs": [],
   "source": [
    "\"\"\"\n",
    "your solution here\n",
    "\n",
    "P(A)*P(B) = P(A ∩ B)\n",
    "\n",
    "P(A ∩ B) = P(A)*P(B)\n",
    "\n",
    "P(F ∩ Yes) = P(Yes)* P(F)\n",
    "\n",
    "P(F ∩ Yes) = P(0.675) * P(0.520) = 0,351 # numbers are equal the tabble, with means that they are independent.\n",
    "\n",
    "table is on my notebook :)\n",
    "\n",
    "\"\"\""
   ]
  },
  {
   "cell_type": "code",
   "execution_count": null,
   "metadata": {},
   "outputs": [],
   "source": []
  },
  {
   "cell_type": "code",
   "execution_count": null,
   "metadata": {},
   "outputs": [],
   "source": [
    "#Studyng:\n",
    "\n",
    "#For independent probability:\n",
    "    \n",
    "#P(A,B) = P(A) × P(B)\n",
    "\n",
    "#probability_of_6 = 1/6\n",
    "# Probabilidade de rolar dois 6 em dois dados\n",
    "#print(probability_of_6 * probability_of_6)\n",
    "#0.027777777777777776\n",
    "\n",
    "\n",
    "# Utilizando Fraction para retornar o valor em forma de fração\n",
    "#from fractions import Fraction\n",
    "\n",
    "#print(Fraction(probability_of_6 * probability_of_6).limit_denominator())\n",
    "#1/36\n",
    "\n",
    "#Eventos complementares são um conceito simples. \n",
    "#Um evento complementar a um evento A é aquele que engloba todos os resultados \n",
    "#que não atendem ao evento A. \n",
    "#Novamente utilizando o rolar do dado como exemplo, se um evento \n",
    "#A indica a probabilidade deste dado rolar um número menor ou igual a 2, \n",
    "#que seria de 2/6, seu evento complementar seria a probabilidade do dado \n",
    "#rolar um número maior que 2, ou 4/6. \n",
    "#O cálculo da probabilidade de um evento complementar é bem simples, \n",
    "#bastando subtrair de 1 a probabilidade do evento A\n"
   ]
  }
 ],
 "metadata": {
  "kernelspec": {
   "display_name": "Python 3",
   "language": "python",
   "name": "python3"
  },
  "language_info": {
   "codemirror_mode": {
    "name": "ipython",
    "version": 3
   },
   "file_extension": ".py",
   "mimetype": "text/x-python",
   "name": "python",
   "nbconvert_exporter": "python",
   "pygments_lexer": "ipython3",
   "version": "3.6.10"
  }
 },
 "nbformat": 4,
 "nbformat_minor": 2
}
