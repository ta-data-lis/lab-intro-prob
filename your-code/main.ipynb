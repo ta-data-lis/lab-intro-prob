{
 "cells": [
  {
   "cell_type": "markdown",
   "metadata": {},
   "source": [
    "# Introduction To Probability\n",
    "## Challenge 1\n",
    "\n",
    "A and B are events of a probability space with $(\\omega, \\sigma, P)$ such that $P(A) = 0.3$, $P(B) = 0.6$ and $P(A \\cap B) = 0.1$\n",
    "\n",
    "Which of the following statements are false?\n",
    "* $P(A \\cup B) = 0.6$\n",
    "* $P(A \\cap B^{C}) = 0.2$\n",
    "* $P(A \\cap (B \\cup B^{C})) = 0.4$\n",
    "* $P(A^{C} \\cap B^{C}) = 0.3$\n",
    "* $P((A \\cap B)^{C}) = 0.9$"
   ]
  },
  {
   "cell_type": "markdown",
   "metadata": {},
   "source": [
    "\n",
    "### Solutions\n",
    "</br>\n",
    "1. According to the Addition rule of Probablity : </br>\n",
    "   P(A U B) = P(B U A) = P(A) + P(B) - P(A ∩ B)</br>\n",
    "   Therefore P(A U B) = 0.3 + 0.6 - 0.1 = 0.7</br>\n",
    "   Hence No 1 is <b>False</b> </br>\n",
    "   </br>\n",
    "2. According to the Complement rule:</br>\n",
    "   P(B) + P(B') = 1</br>\n",
    "   Therefore P(B') = 1 - 0.6 = 0.4</br>\n",
    "   and P(A ∩ B') = 0.3 x 0.4 = 0.12 </br>\n",
    "   Therefore No 2 is <b>False</b> </br>\n",
    "   </br>\n",
    "3. P(B U B') = 0.6 + 0.4 - 0 = 1</br>\n",
    "   P( A ∩ 1 ) = 0.3 x 1 = 0.3 </br>\n",
    "   Therefore No 3 is <b>False</b> </br>\n",
    "   </br>\n",
    "4. P(A) + P(A') = 1</br>\n",
    "   Therefore P(A') = 1 - 0.3 = 0.7</br>\n",
    "   Hence P(A' ∩ B') = 0.7 x 0.4 = 0.28</br>\n",
    "   Hence No 4 is <b>True</b> </br>\n",
    "   </br>\n",
    "5. According to the Complement rule:</br>\n",
    "   1 = P(A ∩ B) + P((A ∩ B)')</br>\n",
    "   Therefore P((A ∩ B)') = 1 - P(A ∩ B) </br>\n",
    "                         = 1 - 0.1</br>\n",
    "                         = 0.9</br>\n",
    "   Hence No 5 is <b>True</b> "
   ]
  },
  {
   "cell_type": "markdown",
   "metadata": {},
   "source": [
    "## Challenge 2\n",
    "There is a box with 10 white balls, 12 red balls and 8 black balls. Calculate the probability of:\n",
    "* Taking a white ball out.\n",
    "* Taking a white ball out after taking a black ball out.\n",
    "* Taking a red ball out after taking a black and a red ball out.\n",
    "* Taking a red ball out after taking a black and a red ball out with reposition.\n",
    "\n",
    "**Hint**: Reposition means putting back the ball into the box after taking it out."
   ]
  },
  {
   "cell_type": "markdown",
   "metadata": {},
   "source": [
    "## Solutions\n",
    "- Sample space = 10 + 12 + 8 = 30\n",
    "- White balls = 10\n",
    "- Red balls = 12\n",
    "- Black balls = 8\n",
    "### Taking a white ball out\n",
    "- P(W) = 10/30 = 0.3\n",
    "### Taking a white ball out after taking out a black ball out\n",
    "- First take out black ball P(B) = 8/30. (Remaining 29 balls)\n",
    "- Therefore P(W) after taking out a black ball is  10/29 or 0.29\n",
    "### Taking a red ball after taking out a black ball  and a red ball\n",
    "- First take out black ball P(B) = 8/30. (Remaining 29 balls)\n",
    "- Second take out red ball P(R) = 12/29. (Remaining 28 balls)\n",
    "- Therefore P(R) is now 11/29\n",
    "### Taking a red ball after taking out a black ball  and a red ball with reposition \n",
    "- First take out black ball P(B) = 8/30.(Reposition occurs so 30 balls remain)\n",
    "- Second take out red ball P(R) = 12/30(Reposition occurs so 30 balls remain)\n",
    "- Therefore P(R) is still  12/30.\n",
    "\n",
    "  \n",
    "  \n",
    "\n"
   ]
  },
  {
   "cell_type": "markdown",
   "metadata": {},
   "source": [
    "## Challenge 3\n",
    "\n",
    "You are planning to go on a picnic today but the morning is cloudy. You hate rain so you don't know whether to go out or stay home! To help you make a decision, you gather the following data about rainy days:\n",
    "\n",
    "* Knowing that it is a rainy day, the probability of cloudy is 50%!\n",
    "* The probability of any day (rainy or not) starting off cloudy is 40%. \n",
    "* This month is usually dry so only 3 of 30 days (10%) tend to be rainy. \n",
    "\n",
    "What is the probability of rain, given the day started cloudy?"
   ]
  },
  {
   "cell_type": "markdown",
   "metadata": {},
   "source": [
    "## Solutions\n",
    "- Given\n",
    "1. P(R U C) = 0.5 \n",
    "2. P(C) = 0.4 \n",
    "3. P(R) = 0.1 \n",
    "- P(R|C) = ? (the probability of rain, given the day started cloudy)\n",
    "- P(R|C) = (P(R ∩ C))/ P(C)\n",
    "- P(R n C) = P(R) x P(C) = 0.4 x 0.1 = 0.04\n",
    "- Therefore, since P(R|C) = 0.04/0.4 = 0.1. The probability of rain, given the day started cloudy is 10%"
   ]
  },
  {
   "cell_type": "markdown",
   "metadata": {},
   "source": [
    "## Challenge 4\n",
    "\n",
    "One thousand people were asked through a telephone survey whether they thought more street lighting is needed at night or not.\n",
    "\n",
    "Out of the 480 men that answered the survey, 324 said yes and 156 said no. On the other hand, out of the 520 women that answered, 351 said yes and 169 said no. \n",
    "\n",
    "We wonder if men and women have a different opinions about the street lighting matter. Is gender relevant or irrelevant to the question?\n",
    "\n",
    "Consider the following events:\n",
    "- The answer is yes, so the person that answered thinks that more street lighting is needed.\n",
    "- The person who answered is a man.\n",
    "\n",
    "We want to know if these events are independent, that is, if the fact of wanting more light depends on whether one is male or female. Are these events independent or not?\n",
    "\n",
    "**Hint**: To clearly compare the answers by gender, it is best to place the data in a table."
   ]
  },
  {
   "cell_type": "markdown",
   "metadata": {},
   "source": [
    "## Solutions\n",
    "\n",
    "Independence and Dependence of Events\n",
    "Two events are said to be independent if one does not impact the other.\n",
    "\n",
    "In order for 2 events A and B to be independent, at least one of the following statements must be true:\n",
    "\n",
    "P(A)*P(B) = P(A ∩ B)\n",
    "\n",
    "P(A|B) = P(A)\n",
    "\n",
    "P(B|A) = P(B)\n",
    "\n",
    "Therefore, let's see if any of these conditions happen 👇🏾<br>\n",
    "<b>Note</b>: P(M ∩ Y) == P(Y ∩ M)"
   ]
  },
  {
   "cell_type": "code",
   "execution_count": 38,
   "metadata": {},
   "outputs": [
    {
     "data": {
      "text/plain": [
       "0.324"
      ]
     },
     "metadata": {},
     "output_type": "display_data"
    },
    {
     "data": {
      "text/plain": [
       "0.48"
      ]
     },
     "metadata": {},
     "output_type": "display_data"
    },
    {
     "data": {
      "text/plain": [
       "1.4062500000000002"
      ]
     },
     "metadata": {},
     "output_type": "display_data"
    },
    {
     "data": {
      "text/plain": [
       "0.675"
      ]
     },
     "metadata": {},
     "output_type": "display_data"
    },
    {
     "data": {
      "text/plain": [
       "1.4062500000000002"
      ]
     },
     "metadata": {},
     "output_type": "display_data"
    },
    {
     "data": {
      "text/plain": [
       "0.48"
      ]
     },
     "metadata": {},
     "output_type": "display_data"
    }
   ],
   "source": [
    "# your code here\n",
    "# load libraries\n",
    "import pandas as pd\n",
    "\n",
    "# the inputs\n",
    "list_of_probs = [\"P(W)\", \"P(M)\", \"P(M ∩ Y)\", \"P(M ∩ N)\", \"P(W ∩ Y)\", \"P(W ∩ N)\", \"P(N)\"\n",
    "                , \"P(Y)\"]\n",
    "list_of_outcomes = [ 520/1000, 480/1000, 324/480, 156/480, 351/520, 169/520,325/1000 , 675/1000]\n",
    "\n",
    "# making the table\n",
    "data = {\n",
    "    \"Probablity\": list_of_probs,\n",
    "    \"Outcome\": list_of_outcomes\n",
    "}\n",
    "df = pd.DataFrame(data)\n",
    "\n",
    "# Solving for answer\n",
    "  #P(Y) * P(M) 👇🏾\n",
    "display(df.iloc[7]['Outcome'] * df.iloc[1]['Outcome'])\n",
    "  #P(M ∩ Y)\n",
    "display(df.iloc[1]['Outcome'])\n",
    "\n",
    "# Solving for answer\n",
    "  #P(Y|M) = P(M ∩ Y) / P(M)\n",
    "display(df.iloc[2]['Outcome'] / df.iloc[1]['Outcome'])\n",
    "  #P(Y)\n",
    "display(df.iloc[7]['Outcome'])\n",
    "\n",
    "# Solving for answer\n",
    "  #P(M|Y) = P(M ∩ Y) / P(Y)\n",
    "display(df.iloc[2]['Outcome'] / df.iloc[1]['Outcome'])\n",
    "  #P(M)\n",
    "display(df.iloc[1]['Outcome'])"
   ]
  },
  {
   "cell_type": "markdown",
   "metadata": {},
   "source": [
    "### Conclusion\n",
    "- Therefore P(Y) and P(M) are dependent on each other"
   ]
  }
 ],
 "metadata": {
  "kernelspec": {
   "display_name": "Python 3 (ipykernel)",
   "language": "python",
   "name": "python3"
  },
  "language_info": {
   "codemirror_mode": {
    "name": "ipython",
    "version": 3
   },
   "file_extension": ".py",
   "mimetype": "text/x-python",
   "name": "python",
   "nbconvert_exporter": "python",
   "pygments_lexer": "ipython3",
   "version": "3.9.5"
  }
 },
 "nbformat": 4,
 "nbformat_minor": 2
}
