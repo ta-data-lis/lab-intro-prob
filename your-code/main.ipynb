{
 "cells": [
  {
   "attachments": {},
   "cell_type": "markdown",
   "metadata": {},
   "source": [
    "# Introduction To Probability\n",
    "## Challenge 1\n",
    "\n",
    "A and B are events of a probability space with $(\\omega, \\sigma, P)$ such that $P(A) = 0.3$, $P(B) = 0.6$ and $P(A \\cap B) = 0.1$\n",
    "\n",
    "Which of the following statements are false?\n",
    "* $P(A \\cup B) = 0.6$\n",
    "* $P(A \\cap B^{C}) = 0.2$\n",
    "* $P(A \\cap (B \\cup B^{C})) = 0.4$\n",
    "* $P(A^{C} \\cap B^{C}) = 0.3$\n",
    "* $P((A \\cap B)^{C}) = 0.9$"
   ]
  },
  {
   "cell_type": "code",
   "execution_count": 2,
   "metadata": {},
   "outputs": [
    {
     "data": {
      "text/plain": [
       "'\\n* $P(A \\\\cup B) = 0.6$\\n* $P(A \\\\cap B^{C}) = 0.2$\\n* $P(A \\\\cap (B \\\\cup B^{C})) = 0.4$\\n* $P(A^{C} \\\\cap B^{C}) = 0.3$\\n* $P((A \\\\cap B)^{C}) = 0.9$\\n\\n'"
      ]
     },
     "execution_count": 2,
     "metadata": {},
     "output_type": "execute_result"
    }
   ],
   "source": [
    "\"\"\"\n",
    "# P(A \\cup B) = 0.6     ->> False\n",
    "# P(A \\cap B^{C}) = 0.2    ->> True\n",
    "# P(A \\cap (B \\cup B^{C})) = P(A) -> 0.3 != 0.4  ->> False\n",
    "# P(A^{C} \\cap B^{C}) = 0.4 != 0.3   ->> False\n",
    "P((A \\cap B)^{C}) = 1-0.1 =  0.9   ->> True\n",
    "\n",
    "\"\"\""
   ]
  },
  {
   "attachments": {},
   "cell_type": "markdown",
   "metadata": {},
   "source": [
    "## Challenge 2\n",
    "There is a box with 10 white balls, 12 red balls and 8 black balls. Calculate the probability of:\n",
    "* Taking a white ball out.\n",
    "* Taking a white ball out after taking a black ball out.\n",
    "* Taking a red ball out after taking a black and a red ball out.\n",
    "* Taking a red ball out after taking a black and a red ball out with reposition.\n",
    "\n",
    "**Hint**: Reposition means putting back the ball into the box after taking it out."
   ]
  },
  {
   "cell_type": "code",
   "execution_count": 7,
   "metadata": {},
   "outputs": [
    {
     "data": {
      "text/plain": [
       "'\\nW = 10,\\nR = 12, \\nB = 8\\nN = 30\\n* Taking a white ball out.\\n# ->> 10/30 = 0.33\\n* Taking a white ball out after taking a black ball out.\\n# ->> 10/29 = 0.345\\n* Taking a red ball out after taking a black and a red ball out.\\n# ->> 11/28 = 0.39\\n* Taking a red ball out after taking a black and a red ball out with reposition.\\n# ->> 12/30 = 0.4\\n'"
      ]
     },
     "execution_count": 7,
     "metadata": {},
     "output_type": "execute_result"
    }
   ],
   "source": [
    "\"\"\"\n",
    "W = 10,\n",
    "R = 12, \n",
    "B = 8\n",
    "N = 30\n",
    "* Taking a white ball out.\n",
    "# ->> 10/30 = 0.33\n",
    "* Taking a white ball out after taking a black ball out.\n",
    "# ->> 10/29 = 0.345\n",
    "* Taking a red ball out after taking a black and a red ball out.\n",
    "# ->> 11/28 = 0.39\n",
    "* Taking a red ball out after taking a black and a red ball out with reposition.\n",
    "# ->> 12/30 = 0.4\n",
    "\"\"\""
   ]
  },
  {
   "attachments": {},
   "cell_type": "markdown",
   "metadata": {},
   "source": [
    "## Challenge 3\n",
    "\n",
    "You are planning to go on a picnic today but the morning is cloudy. You hate rain so you don't know whether to go out or stay home! To help you make a decision, you gather the following data about rainy days:\n",
    "\n",
    "* Knowing that it is a rainy day, the probability of cloudy is 50%!\n",
    "* The probability of any day (rainy or not) starting off cloudy is 40%. \n",
    "* This month is usually dry so only 3 of 30 days (10%) tend to be rainy. \n",
    "\n",
    "What is the probability of rain, given the day started cloudy?"
   ]
  },
  {
   "cell_type": "code",
   "execution_count": null,
   "metadata": {},
   "outputs": [],
   "source": [
    "\"\"\"\n",
    "C = cloudy\n",
    "R = Rainy\n",
    "\n",
    "p(C | R) = 0.5\n",
    "p(C) = 0.4\n",
    "p(R) = 0.1\n",
    "\n",
    "p(R | C ) = (p(C | R) * p(R))/p(C) = 0.5 * 0.1 / 0.4 = 0.125 or 12.5%\n",
    "The likelyhood of rain given that the day started cloudy is 12.5%\n",
    "\n",
    "\"\"\""
   ]
  },
  {
   "cell_type": "code",
   "execution_count": 1,
   "metadata": {},
   "outputs": [
    {
     "data": {
      "text/plain": [
       "0.125"
      ]
     },
     "execution_count": 1,
     "metadata": {},
     "output_type": "execute_result"
    }
   ],
   "source": [
    "0.5*0.1/0.4"
   ]
  },
  {
   "attachments": {},
   "cell_type": "markdown",
   "metadata": {},
   "source": [
    "## Challenge 4\n",
    "\n",
    "One thousand people were asked through a telephone survey whether they thought more street lighting is needed at night or not.\n",
    "\n",
    "Out of the 480 men that answered the survey, 324 said yes and 156 said no. On the other hand, out of the 520 women that answered, 351 said yes and 169 said no. \n",
    "\n",
    "We wonder if men and women have a different opinions about the street lighting matter. Is gender relevant or irrelevant to the question?\n",
    "\n",
    "Consider the following events:\n",
    "- The answer is yes, so the person that answered thinks that more street lighting is needed.\n",
    "- The person who answered is a man.\n",
    "\n",
    "We want to know if these events are independent, that is, if the fact of wanting more light depends on whether one is male or female. Are these events independent or not?\n",
    "\n",
    "**Hint**: To clearly compare the answers by gender, it is best to place the data in a table."
   ]
  },
  {
   "cell_type": "code",
   "execution_count": 8,
   "metadata": {},
   "outputs": [
    {
     "name": "stdout",
     "output_type": "stream",
     "text": [
      "       male  female  total\n",
      "yes     324     351  675.0\n",
      "no      156     169  325.0\n",
      "total   480     520    NaN\n"
     ]
    },
    {
     "data": {
      "text/plain": [
       "'\\np(M) = 480/1000 = 0.48\\np(F) = 520/1000 = 0.52\\np(Y) = 675/1000 = 0.675\\np(N) = 325/1000 = 0.325\\n'"
      ]
     },
     "execution_count": 8,
     "metadata": {},
     "output_type": "execute_result"
    }
   ],
   "source": [
    "# your code here\n",
    "# imoprt libraries\n",
    "import pandas as pd\n",
    "\n",
    "# Create dictionaries to make dataframe(table)\n",
    "data = {'male': {\n",
    "        'yes': 324,\n",
    "        'no': 156,\n",
    "        'total': 480},\n",
    "    'female': {\n",
    "        'yes': 351,\n",
    "        'no': 169,\n",
    "        'total': 520},\n",
    "    'total': {\n",
    "        'yes': 675,\n",
    "        'no': 325}\n",
    "       }\n",
    "\n",
    "data_df = pd.DataFrame.from_dict(data)\n",
    "print(data_df)\n",
    "\n",
    "# given probabilities from table\n",
    "\"\"\"\n",
    "p(M) = 480/1000 = 0.48\n",
    "p(F) = 520/1000 = 0.52\n",
    "p(Y) = 675/1000 = 0.675\n",
    "p(N) = 325/1000 = 0.325\n",
    "\"\"\"\n",
    "\n",
    "# Now calculate the conditional probabilities\n",
    "p(Y|M) = 324/480 = 0.675\n",
    "p(Y|F) = 351/520 = 0.675\n",
    "\n",
    "P(M|Y) = P(Y|M) * P(M) / P(Y) =  0.675*0.48/0.675 = 0.48\n",
    "P(F|Y) = P(Y|F) * P(F) / P(Y) = 0.675*0.52/0.675  = 0.52\n",
    "\n",
    "\n",
    "\n",
    "\"\"\"\n",
    "# We can see that p(Y|M) and p(Y|W) are equal, indicating that there is no significant difference between the proportion of men and women who think that more street light is needed.\n",
    "# However, p(M|Y) and p(W|Y) are not equal. This suggest that the probability of a person being male of female is not independent of their opinion on the street light. More precisely, we can say thet proportion of men who said yes is less than the porportion of women who said yes, relative to their population.\n",
    "\n",
    "# So in conclusion i can say than the opinion on street lighting is depenent on whether the person is male or female. \"\"\""
   ]
  },
  {
   "attachments": {},
   "cell_type": "markdown",
   "metadata": {},
   "source": [
    "#### If possible i want feedback on the last part of this lab. Thank you :)"
   ]
  }
 ],
 "metadata": {
  "kernelspec": {
   "display_name": "Python 3 (ipykernel)",
   "language": "python",
   "name": "python3"
  },
  "language_info": {
   "codemirror_mode": {
    "name": "ipython",
    "version": 3
   },
   "file_extension": ".py",
   "mimetype": "text/x-python",
   "name": "python",
   "nbconvert_exporter": "python",
   "pygments_lexer": "ipython3",
   "version": "3.9.13"
  }
 },
 "nbformat": 4,
 "nbformat_minor": 2
}
