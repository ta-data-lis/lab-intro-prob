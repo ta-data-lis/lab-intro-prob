{
 "cells": [
  {
   "attachments": {},
   "cell_type": "markdown",
   "metadata": {},
   "source": [
    "# Introduction To Probability\n",
    "## Challenge 1\n",
    "\n",
    "A and B are events of a probability space with $(\\omega, \\sigma, P)$ such that $P(A) = 0.3$, $P(B) = 0.6$ and $P(A \\cap B) = 0.1$\n",
    "\n",
    "Which of the following statements are false?\n",
    "* $P(A \\cup B) = 0.6$\n",
    "* $P(A \\cap B^{C}) = 0.2$\n",
    "* $P(A \\cap (B \\cup B^{C})) = 0.4$\n",
    "* $P(A^{C} \\cap B^{C}) = 0.3$\n",
    "* $P((A \\cap B)^{C}) = 0.9$"
   ]
  },
  {
   "cell_type": "code",
   "execution_count": 80,
   "metadata": {},
   "outputs": [
    {
     "name": "stdout",
     "output_type": "stream",
     "text": [
      "0.7999999999999999\n",
      "0.19999999999999998\n",
      "0.3\n",
      "0.20000000000000007\n",
      "0.9\n"
     ]
    }
   ],
   "source": [
    "PA = 0.3\n",
    "PB = 0.6\n",
    "PAIB = 0.1\n",
    "\n",
    "\n",
    "PAUB = PA + PB - PAIB   # False\n",
    "print (PAUB)\n",
    "\n",
    "\n",
    "PAIBc = PA - PAIB   #Correct\n",
    "print (PAIBc)\n",
    "\n",
    "PAIBUBc = PA      # False\n",
    "print(PAIBUBc)\n",
    "\n",
    "\n",
    "PAcIBc = 1 - PAUB  # False\n",
    "print (PAcIBc)\n",
    "\n",
    "\n",
    "PAcBc = 1 - PAB  # Correct\n",
    "print (PAcBc)\n",
    "\n"
   ]
  },
  {
   "attachments": {},
   "cell_type": "markdown",
   "metadata": {},
   "source": [
    "## Challenge 2\n",
    "There is a box with 10 white balls, 12 red balls and 8 black balls. Calculate the probability of:\n",
    "* Taking a white ball out.\n",
    "* Taking a white ball out after taking a black ball out.\n",
    "* Taking a red ball out after taking a black and a red ball out.\n",
    "* Taking a red ball out after taking a black and a red ball out with reposition.\n",
    "\n",
    "**Hint**: Reposition means putting back the ball into the box after taking it out."
   ]
  },
  {
   "cell_type": "code",
   "execution_count": 107,
   "metadata": {},
   "outputs": [
    {
     "name": "stdout",
     "output_type": "stream",
     "text": [
      "0.3333333333333333\n",
      "0.26666666666666666\n",
      "0.4\n",
      "0.3333333333333333\n",
      "0.08888888888888888\n",
      "0.043349753694581286\n",
      "0.03911111111111111\n"
     ]
    }
   ],
   "source": [
    "BWHITE = 10/30\n",
    "BREED = 12/30\n",
    "BBLACK = 8/30\n",
    "TOTALB = 30\n",
    "\n",
    "PWHITE = BWHITE   \n",
    "print (PWHITE)\n",
    "\n",
    "PBLACK = BBLACK\n",
    "print (PBLACK)\n",
    "\n",
    "PREED = BREED\n",
    "print (PREED)\n",
    "\n",
    "\n",
    "### Taking a white ball out.\n",
    "print (PWHITE)    # Probabilidade de ser  branca é 0.333...%\n",
    "\n",
    "## Taking a white ball out after taking a black ball out.\n",
    "## primeiro lancamento a probabilidade normal de ser branca + o segundo lancamento ser preto\n",
    "PWHITE * PBLACK\n",
    "print (PWHITE * PBLACK)   # Probabilidade de ser branca e depois preta é 0.08888....\n",
    "\n",
    "\n",
    "## Taking a red ball out after taking a black and a red ball out.\n",
    "PREED * 8/29 * 11/28\n",
    "print (PREED * 8/29 * 11/28)   #(x100 = 4.334)\n",
    "\n",
    "## Taking a red ball out after taking a black and a red ball out with reposition.\n",
    " \n",
    "PRBR = PREED * PBLACK * 11 / 30\n",
    "print (PRBR)\n",
    "\n"
   ]
  },
  {
   "attachments": {},
   "cell_type": "markdown",
   "metadata": {},
   "source": [
    "## Challenge 3\n",
    "\n",
    "You are planning to go on a picnic today but the morning is cloudy. You hate rain so you don't know whether to go out or stay home! To help you make a decision, you gather the following data about rainy days:\n",
    "\n",
    "* Knowing that it is a rainy day, the probability of cloudy is 50%!\n",
    "* The probability of any day (rainy or not) starting off cloudy is 40%. \n",
    "* This month is usually dry so only 3 of 30 days (10%) tend to be rainy. \n",
    "\n",
    "What is the probability of rain, given the day started cloudy?"
   ]
  },
  {
   "cell_type": "code",
   "execution_count": 103,
   "metadata": {},
   "outputs": [
    {
     "name": "stdout",
     "output_type": "stream",
     "text": [
      "0.125\n"
     ]
    },
    {
     "data": {
      "text/plain": [
       "12.5"
      ]
     },
     "execution_count": 103,
     "metadata": {},
     "output_type": "execute_result"
    }
   ],
   "source": [
    "# probabilidade de chover comecando com nuvens...\n",
    "\n",
    "PRainday = 0.5\n",
    "PNormalday = 0.4\n",
    "PDryday = 0.1\n",
    "\n",
    "\n",
    "PR = 0.5 * 0.1 / 0.4\n",
    "\n",
    "print (PR) \n",
    "\n",
    "PR*100  # a probabilidade de chover e comecar o dia com nuvens é de 12,5%\n"
   ]
  },
  {
   "attachments": {},
   "cell_type": "markdown",
   "metadata": {},
   "source": [
    "## Challenge 4\n",
    "\n",
    "One thousand people were asked through a telephone survey whether they thought more street lighting is needed at night or not.\n",
    "\n",
    "Out of the 480 men that answered the survey, 324 said yes and 156 said no. On the other hand, out of the 520 women that answered, 351 said yes and 169 said no. \n",
    "\n",
    "We wonder if men and women have a different opinions about the street lighting matter. Is gender relevant or irrelevant to the question?\n",
    "\n",
    "Consider the following events:\n",
    "- The answer is yes, so the person that answered thinks that more street lighting is needed.\n",
    "- The person who answered is a man.\n",
    "\n",
    "We want to know if these events are independent, that is, if the fact of wanting more light depends on whether one is male or female. Are these events independent or not?\n",
    "\n",
    "**Hint**: To clearly compare the answers by gender, it is best to place the data in a table."
   ]
  },
  {
   "cell_type": "code",
   "execution_count": 98,
   "metadata": {},
   "outputs": [
    {
     "name": "stdout",
     "output_type": "stream",
     "text": [
      "0.48\n",
      "0.52\n",
      "0.324 valor independente\n",
      "0.5007999999999999\n"
     ]
    }
   ],
   "source": [
    "men = 480/1000\n",
    "print (men)\n",
    "men_yes = 0.324\n",
    "men_no= 0.156\n",
    "\n",
    "\n",
    "women = 520/1000\n",
    "print (women)\n",
    "women_yes = 0.351\n",
    "women_no = 0.169\n",
    "\n",
    "\n",
    "men*men_no\n",
    "men*men_yes\n",
    "women*women_yes\n",
    "women*women_no\n",
    "\n",
    "\n",
    "x = (0.324+0.351)*men\n",
    "print(x, \"valor independente\")\n",
    "\n",
    "total = men*men_no + men*men_yes + women*women_yes + women*women_no\n",
    "print(total)\n"
   ]
  },
  {
   "attachments": {},
   "cell_type": "markdown",
   "metadata": {},
   "source": [
    "480 men = 324 yes\n",
    "          156 no \n",
    "\n",
    "\n",
    "520 women = 351 yes\n",
    "            169 no \n",
    "\n",
    "total = 520 + 480 = 1.000 (pessoas e opinioes)\n",
    "\n",
    "\n",
    "Sao eventos independentes, irrelevante ser homem ou mulher\n"
   ]
  }
 ],
 "metadata": {
  "kernelspec": {
   "display_name": "Python 3",
   "language": "python",
   "name": "python3"
  },
  "language_info": {
   "codemirror_mode": {
    "name": "ipython",
    "version": 3
   },
   "file_extension": ".py",
   "mimetype": "text/x-python",
   "name": "python",
   "nbconvert_exporter": "python",
   "pygments_lexer": "ipython3",
   "version": "3.11.2"
  }
 },
 "nbformat": 4,
 "nbformat_minor": 2
}
