{
 "cells": [
  {
   "cell_type": "markdown",
   "metadata": {},
   "source": [
    "# Introduction To Probability\n",
    "## Challenge 1\n",
    "\n",
    "A and B are events of a probability space with $(\\omega, \\sigma, P)$ such that $P(A) = 0.3$, $P(B) = 0.6$ and $P(A \\cap B) = 0.1$\n",
    "\n",
    "Which of the following statements are false?\n",
    "1. $P(A \\cup B) = 0.6$\n",
    "2. $P(A \\cap B^{C}) = 0.2$\n",
    "3. $P(A \\cap (B \\cup B^{C})) = 0.4$\n",
    "4. $P(A^{C} \\cap B^{C}) = 0.3$\n",
    "5. $P((A \\cap B)^{C}) = 0.9$"
   ]
  },
  {
   "cell_type": "code",
   "execution_count": 1,
   "metadata": {},
   "outputs": [
    {
     "data": {
      "text/plain": [
       "\"\\n1. False. It's 0.8\\n2. False. It's 0.12\\n3. False. It's 0.3\\n4. False. It's 0.28\\n5. True.\\n\""
      ]
     },
     "execution_count": 1,
     "metadata": {},
     "output_type": "execute_result"
    }
   ],
   "source": [
    "## I added numbers to the statements\n",
    "\"\"\"\n",
    "1. False. It's 0.8\n",
    "2. False. It's 0.12\n",
    "3. False. It's 0.3\n",
    "4. True.\n",
    "5. True.\n",
    "\"\"\""
   ]
  },
  {
   "cell_type": "markdown",
   "metadata": {},
   "source": [
    "## Challenge 2\n",
    "There is a box with 10 white balls, 12 red balls and 8 black balls. Calculate the probability of:\n",
    "1. Taking a white ball out.\n",
    "2. Taking a white ball out after taking a black ball out.\n",
    "3. Taking a red ball out after taking a black and a red ball out.\n",
    "4. Taking a red ball out after taking a black and a red ball out with reposition.\n",
    "\n",
    "**Hint**: Reposition means putting back the ball into the box after taking it out."
   ]
  },
  {
   "cell_type": "code",
   "execution_count": 7,
   "metadata": {},
   "outputs": [
    {
     "data": {
      "text/plain": [
       "'\\n1. 10/20 = 0.5\\n2. 8/20 * 10/19 = 0.21\\n3. 12/20 * 8/19 * 11/18 = 0.15\\n4. 8/20 * 12/19 * 12/19 = 0.159\\n'"
      ]
     },
     "execution_count": 7,
     "metadata": {},
     "output_type": "execute_result"
    }
   ],
   "source": [
    "\"\"\"\n",
    "1. 10/20 = 0.5\n",
    "2. 8/20 * 10/19 = 0.21\n",
    "3. 12/20 * 8/19 * 11/18 = 0.15\n",
    "4. 8/20 * 12/19 * 12/19 = 0.159\n",
    "\"\"\""
   ]
  },
  {
   "cell_type": "markdown",
   "metadata": {},
   "source": [
    "## Challenge 3\n",
    "\n",
    "You are planning to go on a picnic today but the morning is cloudy. You hate rain so you don't know whether to go out or stay home! To help you make a decision, you gather the following data about rainy days:\n",
    "\n",
    "* Knowing that it is a rainy day, the probability of cloudy is 50%!\n",
    "* The probability of any day (rainy or not) starting off cloudy is 40%. \n",
    "* This month is usually dry so only 3 of 30 days (10%) tend to be rainy. \n",
    "\n",
    "What is the probability of rain, given the day started cloudy?"
   ]
  },
  {
   "cell_type": "code",
   "execution_count": 6,
   "metadata": {},
   "outputs": [
    {
     "data": {
      "text/plain": [
       "'\\nP(R|C) = (P(C|R)*P(R))/P(C) = (0.5*0.1)/0.4 = 0.125\\n'"
      ]
     },
     "execution_count": 6,
     "metadata": {},
     "output_type": "execute_result"
    }
   ],
   "source": [
    "# R --> Rainy\n",
    "# C --> Cloudy\n",
    "\"\"\"\n",
    "P(R|C) = (P(C|R)*P(R))/P(C) = (0.5*0.1)/0.4 = 0.125\n",
    "\"\"\""
   ]
  },
  {
   "cell_type": "markdown",
   "metadata": {},
   "source": [
    "## Challenge 4\n",
    "\n",
    "One thousand people were asked through a telephone survey whether they thought more street lighting is needed at night or not.\n",
    "\n",
    "Out of the 480 men that answered the survey, 324 said yes and 156 said no. On the other hand, out of the 520 women that answered, 351 said yes and 169 said no. \n",
    "\n",
    "We wonder if men and women have a different opinions about the street lighting matter. Is gender relevant or irrelevant to the question?\n",
    "\n",
    "Consider the following events:\n",
    "- The answer is yes, so the person that answered thinks that more street lighting is needed.\n",
    "- The person who answered is a man.\n",
    "\n",
    "We want to know if these events are independent, that is, if the fact of wanting more light depends on whether one is male or female. Are these events independent or not?\n",
    "\n",
    "**Hint**: To clearly compare the answers by gender, it is best to place the data in a table."
   ]
  },
  {
   "cell_type": "code",
   "execution_count": 11,
   "metadata": {},
   "outputs": [],
   "source": [
    "# your code here"
   ]
  },
  {
   "cell_type": "markdown",
   "metadata": {},
   "source": [
    "Table:\n",
    "\n",
    "|          |       M | F       |    Total |\n",
    "|----------|:-------:|--------:|---------:|\n",
    "|     Yes  |     324 |     739 |  **675** |\n",
    "|     No   |     156 |     169 |  **325** |\n",
    "| **Total**| **480** | **520** | **1000** |"
   ]
  },
  {
   "cell_type": "code",
   "execution_count": null,
   "metadata": {},
   "outputs": [],
   "source": [
    "\"\"\"\n",
    "P(M∩Y) = P(M)*P(Y)\n",
    "0.324 = 0.48 * 0.675\n",
    "0.324 = 0.324 --> True\n",
    "\n",
    "P(F∩Y) = P(F)*P(Y)\n",
    "0.351 = 0.520 * 0.675\n",
    "0.351 = 0.351 --> True\n",
    "\n",
    "Both variables are independent.\n",
    "\"\"\""
   ]
  }
 ],
 "metadata": {
  "kernelspec": {
   "display_name": "Python 3.9.12 ('ironhack')",
   "language": "python",
   "name": "python3"
  },
  "language_info": {
   "codemirror_mode": {
    "name": "ipython",
    "version": 3
   },
   "file_extension": ".py",
   "mimetype": "text/x-python",
   "name": "python",
   "nbconvert_exporter": "python",
   "pygments_lexer": "ipython3",
   "version": "3.9.12"
  },
  "vscode": {
   "interpreter": {
    "hash": "0094f863879e23567bc7f1203464ab0e17c9a144de34e46277031dbb63b00f13"
   }
  }
 },
 "nbformat": 4,
 "nbformat_minor": 2
}
