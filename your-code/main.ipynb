{
 "cells": [
  {
   "cell_type": "markdown",
   "metadata": {},
   "source": [
    "# Introduction To Probability\n",
    "## Challenge 1\n",
    "\n",
    "A and B are events of a probability space with $(\\omega, \\sigma, P)$ such that $P(A) = 0.3$, $P(B) = 0.6$ and $P(A \\cap B) = 0.1$\n",
    "\n",
    "Which of the following statements are false?\n",
    "* $P(A \\cup B) = 0.6$\n",
    "* $P(A \\cap B^{C}) = 0.2$\n",
    "* $P(A \\cap (B \\cup B^{C})) = 0.4$\n",
    "* $P(A^{C} \\cap B^{C}) = 0.3$\n",
    "* $P((A \\cap B)^{C}) = 0.9$"
   ]
  },
  {
   "cell_type": "code",
   "execution_count": null,
   "metadata": {},
   "outputs": [],
   "source": [
    "\"\"\"\n",
    "𝑃(𝐴∪𝐵)=0.6\n",
    "False\n",
    "\n",
    "𝑃(𝐴∩𝐵𝐶)=0.2\n",
    "True\n",
    "\n",
    "𝑃(𝐴∩(𝐵∪𝐵𝐶))=0.4\n",
    "False\n",
    "\n",
    "𝑃(𝐴𝐶∩𝐵𝐶)=0.3\n",
    "False\n",
    "\n",
    "𝑃((𝐴∩𝐵)𝐶)=0.9\n",
    "True\n",
    "\n",
    "\"\"\""
   ]
  },
  {
   "cell_type": "markdown",
   "metadata": {},
   "source": [
    "## Challenge 2\n",
    "There is a box with 10 white balls, 12 red balls and 8 black balls. Calculate the probability of:\n",
    "* Taking a white ball out.\n",
    "* Taking a white ball out after taking a black ball out.\n",
    "* Taking a red ball out after taking a black and a red ball out.\n",
    "* Taking a red ball out after taking a black and a red ball out with reposition.\n",
    "\n",
    "**Hint**: Reposition means putting back the ball into the box after taking it out."
   ]
  },
  {
   "cell_type": "code",
   "execution_count": null,
   "metadata": {},
   "outputs": [],
   "source": [
    "\"\"\"\n",
    "Taking a white ball out.\n",
    "10/30 = 1/3 = 0.333\n",
    "\n",
    "\n",
    "Taking a white ball out after taking a black ball out.\n",
    "8/30 * 10/29 =  0.092    \n",
    "\n",
    "\n",
    "Taking a red ball out after taking a black and a red ball out.\n",
    "8/30 * 12/29 * 11/28 = 0.0433\n",
    "\n",
    "\n",
    "Taking a red ball out after taking a black and a red ball out with reposition.\n",
    "8/30 * 12/30 * 12/30  = 0.0427\n",
    "\n",
    "\"\"\""
   ]
  },
  {
   "cell_type": "markdown",
   "metadata": {},
   "source": [
    "## Challenge 3\n",
    "\n",
    "You are planning to go on a picnic today but the morning is cloudy. You hate rain so you don't know whether to go out or stay home! To help you make a decision, you gather the following data about rainy days:\n",
    "\n",
    "* Knowing that it is a rainy day, the probability of cloudy is 50%!\n",
    "* The probability of any day (rainy or not) starting off cloudy is 40%. \n",
    "* This month is usually dry so only 3 of 30 days (10%) tend to be rainy. \n",
    "\n",
    "What is the probability of rain, given the day started cloudy?"
   ]
  },
  {
   "cell_type": "code",
   "execution_count": null,
   "metadata": {},
   "outputs": [],
   "source": [
    "\"\"\"\n",
    "P(rain, cloudy) = 0.5\n",
    "P(starting cloudy) = 0.4\n",
    "P(rain) = 0.1\n",
    "\n",
    "P(rain|cloudy) = P(starting cloudy n rain)/P(starting  cloudy)\n",
    "                = (0.5*0.1)/(0.4)\n",
    "                = 0.125\n",
    "\"\"\""
   ]
  },
  {
   "cell_type": "markdown",
   "metadata": {},
   "source": [
    "## Challenge 4\n",
    "\n",
    "One thousand people were asked through a telephone survey whether they thought more street lighting is needed at night or not.\n",
    "\n",
    "Out of the 480 men that answered the survey, 324 said yes and 156 said no. On the other hand, out of the 520 women that answered, 351 said yes and 169 said no. \n",
    "\n",
    "We wonder if men and women have a different opinions about the street lighting matter. Is gender relevant or irrelevant to the question?\n",
    "\n",
    "Consider the following events:\n",
    "- The answer is yes, so the person that answered thinks that more street lighting is needed.\n",
    "- The person who answered is a man.\n",
    "\n",
    "We want to know if these events are independent, that is, if the fact of wanting more light depends on whether one is male or female. Are these events independent or not?\n",
    "\n",
    "**Hint**: To clearly compare the answers by gender, it is best to place the data in a table."
   ]
  },
  {
   "cell_type": "code",
   "execution_count": 4,
   "metadata": {},
   "outputs": [
    {
     "name": "stdout",
     "output_type": "stream",
     "text": [
      "  Gender  Yes   No  Total\n",
      "0    Man  324  158    480\n",
      "1  Woman  351  169    520\n"
     ]
    }
   ],
   "source": [
    "# your code here\n",
    "import pandas as pd\n",
    "data = {'Gender': ['Man', 'Woman'],\n",
    "        'Yes': [324, 351],\n",
    "        'No' : [158,169],\n",
    "        'Total': [480,520]}\n",
    "\n",
    "data = pd.DataFrame(data)\n",
    "\n",
    "print(data)"
   ]
  },
  {
   "cell_type": "code",
   "execution_count": null,
   "metadata": {},
   "outputs": [],
   "source": [
    "\"\"\"\n",
    "480 MAN: \n",
    "\n",
    "324 YES \n",
    "158 NO \n",
    "\n",
    "520 WOMAN: \n",
    "\n",
    "351 YES\n",
    "169 NO\n",
    "\n",
    "\n",
    "P(YES IF MAN) = 324/480 = 0.675\n",
    "\n",
    "P(YES IF WOMAN) = 351/520 = 0.675\n",
    "\n",
    "P(YES TOTAL) = (324+351)/1000 = 0.675\n",
    "\n",
    "The probability of saying yes, wheter male or female, is the same so the events are independent.\n",
    "\n",
    "\"\"\""
   ]
  }
 ],
 "metadata": {
  "kernelspec": {
   "display_name": "Python 3 (ipykernel)",
   "language": "python",
   "name": "python3"
  },
  "language_info": {
   "codemirror_mode": {
    "name": "ipython",
    "version": 3
   },
   "file_extension": ".py",
   "mimetype": "text/x-python",
   "name": "python",
   "nbconvert_exporter": "python",
   "pygments_lexer": "ipython3",
   "version": "3.9.13"
  }
 },
 "nbformat": 4,
 "nbformat_minor": 2
}
