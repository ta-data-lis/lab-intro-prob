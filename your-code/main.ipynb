{
 "cells": [
  {
   "cell_type": "markdown",
   "metadata": {},
   "source": [
    "# Introduction To Probability\n",
    "## Challenge 1\n",
    "\n",
    "A and B are events of a probability space with $(\\omega, \\sigma, P)$ such that $P(A) = 0.3$, $P(B) = 0.6$ and $P(A \\cap B) = 0.1$\n",
    "\n",
    "Which of the following statements are false?\n",
    "* $P(A \\cup B) = 0.6$\n",
    "* $P(A \\cap B^{C}) = 0.2$\n",
    "* $P(A \\cap (B \\cup B^{C})) = 0.4$\n",
    "* $P(A^{C} \\cap B^{C}) = 0.3$\n",
    "* $P((A \\cap B)^{C}) = 0.9$"
   ]
  },
  {
   "cell_type": "code",
   "execution_count": 4,
   "metadata": {},
   "outputs": [
    {
     "data": {
      "text/plain": [
       "\"\\nyour solution here\\n\\nP(A \\\\cup B ) = 0.6          FALSE (0.8)\\nP(AnB') = 0.2         TRUE\\nP(An (B u B')) = 0.4  FALSE (0.3)\\nP(A' n B') = 0.3      FALSE (0.2)\\nP((A n B)') = 0.9     TRUE\\n\\n\""
      ]
     },
     "execution_count": 4,
     "metadata": {},
     "output_type": "execute_result"
    }
   ],
   "source": [
    "\"\"\"\n",
    "your solution here\n",
    "\n",
    "P(A \\cup B ) = 0.6          FALSE (0.8)\n",
    "P(AnB') = 0.2         TRUE\n",
    "P(An (B u B')) = 0.4  FALSE (0.3)\n",
    "P(A' n B') = 0.3      FALSE (0.2)\n",
    "P((A n B)') = 0.9     TRUE\n",
    "\n",
    "\"\"\""
   ]
  },
  {
   "cell_type": "markdown",
   "metadata": {},
   "source": [
    "## Challenge 2\n",
    "There is a box with 10 white balls, 12 red balls and 8 black balls. Calculate the probability of:\n",
    "* Taking a white ball out.\n",
    "* Taking a white ball out after taking a black ball out.\n",
    "* Taking a red ball out after taking a black and a red ball out.\n",
    "* Taking a red ball out after taking a black and a red ball out with reposition.\n",
    "\n",
    "**Hint**: Reposition means putting back the ball into the box after taking it out."
   ]
  },
  {
   "cell_type": "code",
   "execution_count": null,
   "metadata": {},
   "outputs": [],
   "source": [
    "\"\"\"\n",
    "your solution here\n",
    "\n",
    "P(Taking a white ball out) = 10/(10+12+8) = 1/3\n",
    "\n",
    "#I'm not sure which way is correct, taking the previous draws probabilities in account or not\n",
    "P(Taking a white ball out, after taking a black ball out, new S) = 10/29 = 0.3448\n",
    "P(Taking a white ball out, after taking a black ball out, P of both events happening) = 8/30 * 10/29 = 0.09195\n",
    "\n",
    "#I'm not sure which way is correct, taking the previous draws probabilities in account or not\n",
    "P(Taking a red ball out, after taking a black and a red ball out, new S) = 11/28 = 0.3929\n",
    "P(Taking a red ball out, after taking a black and a red ball out, P of all 3 events) = 8/30 * 12/29 * 11/28 + 12/30 * 8/29 * 11/28 = 0.0867\n",
    "\n",
    "#I'm not sure which way is correct, taking the previous draws probabilities in account or not\n",
    "P(Taking a red ball out, after taking a black and a red ball out with reposition) = 12/30 = 0.4\n",
    "P(Taking a red ball out, after taking a black and a red ball out with reposition, P of all 3 events) = 8/30 * 12/30 * 12/30 + 12/30 * 8/30 * 12/30 = 0.0853\n",
    "\n",
    "\n",
    "\"\"\""
   ]
  },
  {
   "cell_type": "markdown",
   "metadata": {},
   "source": [
    "## Challenge 3\n",
    "\n",
    "You are planning to go on a picnic today but the morning is cloudy. You hate rain so you don't know whether to go out or stay home! To help you make a decision, you gather the following data about rainy days:\n",
    "\n",
    "* Knowing that it is a rainy day, the probability of cloudy is 50%!\n",
    "* The probability of any day (rainy or not) starting off cloudy is 40%. \n",
    "* This month is usually dry so only 3 of 30 days (10%) tend to be rainy. \n",
    "\n",
    "What is the probability of rain, given the day started cloudy?"
   ]
  },
  {
   "cell_type": "code",
   "execution_count": null,
   "metadata": {},
   "outputs": [],
   "source": [
    "\"\"\"\n",
    "your solution here\n",
    "P(cloudy|rainy) = 0.5\n",
    "P(cloudy) = 0.4\n",
    "P(rainy) = 0.1\n",
    "P(rainy|cloudy) = ?\n",
    "\n",
    "# P(A|B) = (P(B|A) * P(A)) / P(B)   \n",
    "\n",
    "P(rainy|cloudy) = ( P(cloudy|rainy) * P(rainy) ) / P(cloudy) = (0.5*0.1)/0.4 = 0.125\n",
    "\"\"\""
   ]
  },
  {
   "cell_type": "markdown",
   "metadata": {},
   "source": [
    "## Challenge 4\n",
    "\n",
    "One thousand people were asked through a telephone survey whether they thought more street lighting is needed at night or not.\n",
    "\n",
    "Out of the 480 men that answered the survey, 324 said yes and 156 said no. On the other hand, out of the 520 women that answered, 351 said yes and 169 said no. \n",
    "\n",
    "We wonder if men and women have a different opinions about the street lighting matter. Is gender relevant or irrelevant to the question?\n",
    "\n",
    "Consider the following events:\n",
    "- The answer is yes, so the person that answered thinks that more street lighting is needed.\n",
    "- The person who answered is a man.\n",
    "\n",
    "We want to know if these events are independent, that is, if the fact of wanting more light depends on whether one is male or female. Are these events independent or not?\n",
    "\n",
    "**Hint**: To clearly compare the answers by gender, it is best to place the data in a table."
   ]
  },
  {
   "cell_type": "code",
   "execution_count": 11,
   "metadata": {},
   "outputs": [],
   "source": [
    "import pandas as pd"
   ]
  },
  {
   "cell_type": "code",
   "execution_count": 13,
   "metadata": {},
   "outputs": [
    {
     "data": {
      "text/html": [
       "<div>\n",
       "<style scoped>\n",
       "    .dataframe tbody tr th:only-of-type {\n",
       "        vertical-align: middle;\n",
       "    }\n",
       "\n",
       "    .dataframe tbody tr th {\n",
       "        vertical-align: top;\n",
       "    }\n",
       "\n",
       "    .dataframe thead th {\n",
       "        text-align: right;\n",
       "    }\n",
       "</style>\n",
       "<table border=\"1\" class=\"dataframe\">\n",
       "  <thead>\n",
       "    <tr style=\"text-align: right;\">\n",
       "      <th></th>\n",
       "      <th>yes</th>\n",
       "      <th>no</th>\n",
       "    </tr>\n",
       "  </thead>\n",
       "  <tbody>\n",
       "    <tr>\n",
       "      <th>men</th>\n",
       "      <td>324</td>\n",
       "      <td>156</td>\n",
       "    </tr>\n",
       "    <tr>\n",
       "      <th>women</th>\n",
       "      <td>351</td>\n",
       "      <td>169</td>\n",
       "    </tr>\n",
       "  </tbody>\n",
       "</table>\n",
       "</div>"
      ],
      "text/plain": [
       "       yes   no\n",
       "men    324  156\n",
       "women  351  169"
      ]
     },
     "execution_count": 13,
     "metadata": {},
     "output_type": "execute_result"
    }
   ],
   "source": [
    "# your code here\n",
    "men_n = 480\n",
    "men_yes = 324\n",
    "women_n = 520\n",
    "women_yes = 351\n",
    "\n",
    "#are the events dependent?\n",
    "#is P(yes|gender) == P(gender|yes) TRUE?\n",
    "\n",
    "data = pd.DataFrame([(men_yes,men_n-men_yes),(women_yes,women_n-women_yes)],(\"men\",\"women\"), columns=[\"yes\",\"no\"])\n",
    "data"
   ]
  },
  {
   "cell_type": "code",
   "execution_count": 15,
   "metadata": {},
   "outputs": [
    {
     "data": {
      "text/plain": [
       "0.675"
      ]
     },
     "execution_count": 15,
     "metadata": {},
     "output_type": "execute_result"
    }
   ],
   "source": [
    "(men_yes+women_yes)/(men_n+women_n) \n",
    "#P(yes) = 0.675"
   ]
  },
  {
   "cell_type": "code",
   "execution_count": 20,
   "metadata": {},
   "outputs": [
    {
     "data": {
      "text/plain": [
       "0.48"
      ]
     },
     "execution_count": 20,
     "metadata": {},
     "output_type": "execute_result"
    }
   ],
   "source": [
    "(men_n)/(men_n+women_n) \n",
    "#P(men) = 0.48"
   ]
  },
  {
   "cell_type": "code",
   "execution_count": 18,
   "metadata": {},
   "outputs": [
    {
     "data": {
      "text/plain": [
       "0.324"
      ]
     },
     "execution_count": 18,
     "metadata": {},
     "output_type": "execute_result"
    }
   ],
   "source": [
    "men_yes/(men_n+women_n)\n",
    "#P(men and yes) = 0.324"
   ]
  },
  {
   "cell_type": "code",
   "execution_count": 21,
   "metadata": {},
   "outputs": [
    {
     "data": {
      "text/plain": [
       "0.675"
      ]
     },
     "execution_count": 21,
     "metadata": {},
     "output_type": "execute_result"
    }
   ],
   "source": [
    "0.324 / 0.48\n",
    "#P(B|A) = P(AnB) / P(A)\n",
    "#P(yes|men) = P(men and yes) / P(men) = 0.675"
   ]
  },
  {
   "cell_type": "code",
   "execution_count": 22,
   "metadata": {},
   "outputs": [
    {
     "data": {
      "text/plain": [
       "True"
      ]
     },
     "execution_count": 22,
     "metadata": {},
     "output_type": "execute_result"
    }
   ],
   "source": [
    "0.324 == 0.48*0.675\n",
    "#P(men and yes) = P(men)*P(yes)"
   ]
  },
  {
   "cell_type": "code",
   "execution_count": null,
   "metadata": {},
   "outputs": [],
   "source": [
    "\"\"\"\n",
    "your solution here\n",
    "\n",
    "#they are independent if this is True:\n",
    "### P(AnB) = P(A)*P(B)\n",
    "### P(men and yes) = P(men)*P(yes)\n",
    "\n",
    "### or another way to prove it:\n",
    "### P(B|A) = P(B) \n",
    "### P(yes|men) = P(yes) \n",
    "\n",
    "My numbers prove that yes, the answer yes or no is independent of gender.\n",
    "The probability of a person in the survey answering yes is 67.5%. \n",
    "The probability, that the person answered yes, after we know it was a man, is also 67.5%. \n",
    "P(B|A) = P(B) is True.\n",
    "\n",
    "also: P(AnB) = P(A)*P(B) is True.\n",
    "\"\"\""
   ]
  }
 ],
 "metadata": {
  "kernelspec": {
   "display_name": "Python 3 (ipykernel)",
   "language": "python",
   "name": "python3"
  },
  "language_info": {
   "codemirror_mode": {
    "name": "ipython",
    "version": 3
   },
   "file_extension": ".py",
   "mimetype": "text/x-python",
   "name": "python",
   "nbconvert_exporter": "python",
   "pygments_lexer": "ipython3",
   "version": "3.9.13"
  }
 },
 "nbformat": 4,
 "nbformat_minor": 2
}
