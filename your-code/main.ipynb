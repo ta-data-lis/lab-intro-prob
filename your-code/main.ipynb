{
 "cells": [
  {
   "cell_type": "markdown",
   "metadata": {},
   "source": [
    "# Introduction To Probability\n",
    "## Challenge 1\n",
    "\n",
    "A and B are events of a probability space with $(\\omega, \\sigma, P)$ such that $P(A) = 0.3$, $P(B) = 0.6$ and $P(A \\cap B) = 0.1$\n",
    "\n",
    "Which of the following statements are false?\n",
    "* $P(A \\cup B) = 0.6$\n",
    "* $P(A \\cap B^{C}) = 0.2$\n",
    "* $P(A \\cap (B \\cup B^{C})) = 0.4$\n",
    "* $P(A^{C} \\cap B^{C}) = 0.3$\n",
    "* $P((A \\cap B)^{C}) = 0.9$"
   ]
  },
  {
   "cell_type": "code",
   "execution_count": 1,
   "metadata": {},
   "outputs": [],
   "source": [
    "# P(A and B) = P(A) * P(B) # if A and B are independent\n",
    "# P(A and B) = 0.01\n",
    "\n",
    "#P(A) * P(B)= 0.60*0.30\n",
    "\n",
    "## with this we can say that A and B are not independent!!! :D"
   ]
  },
  {
   "cell_type": "markdown",
   "metadata": {},
   "source": [
    "1.\n",
    "\n",
    "- P(A U B)= P(A) + P(B) - P(A and B)\n",
    "- P(A U B)= 0.30 + 0.60 -0.10\n",
    "- P(A U B)= 0.80 </br>\n",
    "The statement are **False**\n"
   ]
  },
  {
   "cell_type": "markdown",
   "metadata": {},
   "source": [
    "2. \n",
    "- P(A)- P(A∩B)\n",
    "- 0.3 - 0.1 = 0.2 </br>\n",
    "The statement are **true**\n"
   ]
  },
  {
   "cell_type": "markdown",
   "metadata": {},
   "source": [
    "3. \n",
    "- 𝑃(𝐴∩(𝐵∪𝐵𝐶))=0.4 \n",
    "\n",
    "- P(A∩B) + P(A) - P(A∩B)\n",
    "- 0.1 + 0.3 -0.1 = 0.3 </br>\n",
    "The statement are **False**\n"
   ]
  },
  {
   "cell_type": "markdown",
   "metadata": {},
   "source": [
    "4.\n",
    "- 𝑃(𝐴𝐶∩𝐵𝐶) = 1 - 𝑃(𝐴∪𝐵) \n",
    "- = 1 - 0.8 = 0.2 </br>\n",
    "The statement are **False**"
   ]
  },
  {
   "cell_type": "markdown",
   "metadata": {},
   "source": [
    "5.\n",
    "- 𝑃((𝐴∩𝐵)𝐶) = 1 - 𝑃(𝐴∩𝐵) \n",
    "- = 1 - 0.1 = 0.9 </br>\n",
    "The statement are **True**"
   ]
  },
  {
   "cell_type": "markdown",
   "metadata": {},
   "source": [
    "## Challenge 2\n",
    "There is a box with 10 white balls, 12 red balls and 8 black balls. Calculate the probability of:\n",
    "* Taking a white ball out.\n",
    "* Taking a white ball out after taking a black ball out.\n",
    "* Taking a red ball out after taking a black and a red ball out.\n",
    "* Taking a red ball out after taking a black and a red ball out with reposition.\n",
    "\n",
    "**Hint**: Reposition means putting back the ball into the box after taking it out."
   ]
  },
  {
   "cell_type": "markdown",
   "metadata": {},
   "source": [
    "w = 10 </br>\n",
    "r = 12 </br>\n",
    "b = 8 </br>\n",
    "\n",
    "1. P(w)= 10/30 = 0,33\n",
    "2. P(w) = 10/29= 0,34\n",
    "3. P(r)= 12/28= 0,42\n",
    "\n",
    "4. P = P(b) * P(r) * P(r2)\n",
    "\n",
    "P= (8/30) * (12/30) * (12/30)</br>\n",
    "P = 0.042</br>\n",
    "\n",
    "**P(r2)= probability of taking the red ball again**\n"
   ]
  },
  {
   "cell_type": "markdown",
   "metadata": {},
   "source": [
    "## Challenge 3\n",
    "\n",
    "You are planning to go on a picnic today but the morning is cloudy. You hate rain so you don't know whether to go out or stay home! To help you make a decision, you gather the following data about rainy days:\n",
    "\n",
    "* Knowing that it is a rainy day, the probability of cloudy is 50%!\n",
    "* The probability of any day (rainy or not) starting off cloudy is 40%. \n",
    "* This month is usually dry so only 3 of 30 days (10%) tend to be rainy. \n",
    "\n",
    "What is the probability of rain, given the day started cloudy?"
   ]
  },
  {
   "cell_type": "markdown",
   "metadata": {},
   "source": [
    "ca= 0.50</br>\n",
    "rb=0.40</br>\n",
    "m=0.1</br>\n",
    "\n",
    "**P(A|B) = (P(B|A) * P (A))/P (B)**</br>\n",
    "\n",
    "P= (0,1 * 0,50) / 0,40</br>\n",
    "P= 0.125 * 100 = 12,5"
   ]
  },
  {
   "cell_type": "code",
   "execution_count": 12,
   "metadata": {},
   "outputs": [
    {
     "data": {
      "text/plain": [
       "12.5"
      ]
     },
     "execution_count": 12,
     "metadata": {},
     "output_type": "execute_result"
    }
   ],
   "source": [
    "((0.1*0.50)/0.40)*100"
   ]
  },
  {
   "cell_type": "markdown",
   "metadata": {},
   "source": [
    "## Challenge 4\n",
    "\n",
    "One thousand people were asked through a telephone survey whether they thought more street lighting is needed at night or not.\n",
    "\n",
    "Out of the 480 men that answered the survey, 324 said yes and 156 said no. On the other hand, out of the 520 women that answered, 351 said yes and 169 said no. \n",
    "\n",
    "We wonder if men and women have a different opinions about the street lighting matter. Is gender relevant or irrelevant to the question?\n",
    "\n",
    "Consider the following events:\n",
    "- The answer is yes, so the person that answered thinks that more street lighting is needed.\n",
    "- The person who answered is a man.\n",
    "\n",
    "We want to know if these events are independent, that is, if the fact of wanting more light depends on whether one is male or female. Are these events independent or not?\n",
    "\n",
    "**Hint**: To clearly compare the answers by gender, it is best to place the data in a table."
   ]
  },
  {
   "cell_type": "code",
   "execution_count": 3,
   "metadata": {},
   "outputs": [
    {
     "data": {
      "text/html": [
       "<div>\n",
       "<style scoped>\n",
       "    .dataframe tbody tr th:only-of-type {\n",
       "        vertical-align: middle;\n",
       "    }\n",
       "\n",
       "    .dataframe tbody tr th {\n",
       "        vertical-align: top;\n",
       "    }\n",
       "\n",
       "    .dataframe thead th {\n",
       "        text-align: right;\n",
       "    }\n",
       "</style>\n",
       "<table border=\"1\" class=\"dataframe\">\n",
       "  <thead>\n",
       "    <tr style=\"text-align: right;\">\n",
       "      <th></th>\n",
       "      <th>Gender</th>\n",
       "      <th>Yes</th>\n",
       "      <th>No</th>\n",
       "      <th>total</th>\n",
       "    </tr>\n",
       "  </thead>\n",
       "  <tbody>\n",
       "    <tr>\n",
       "      <th>0</th>\n",
       "      <td>male</td>\n",
       "      <td>324</td>\n",
       "      <td>156</td>\n",
       "      <td>480</td>\n",
       "    </tr>\n",
       "    <tr>\n",
       "      <th>1</th>\n",
       "      <td>female</td>\n",
       "      <td>351</td>\n",
       "      <td>169</td>\n",
       "      <td>520</td>\n",
       "    </tr>\n",
       "  </tbody>\n",
       "</table>\n",
       "</div>"
      ],
      "text/plain": [
       "   Gender  Yes   No total\n",
       "0    male  324  156   480\n",
       "1  female  351  169   520"
      ]
     },
     "execution_count": 3,
     "metadata": {},
     "output_type": "execute_result"
    }
   ],
   "source": [
    "import pandas as pd\n",
    "\n",
    "data = {'Gender':  ['male', 'female'],\n",
    "        'Yes': ['324', '351'],\n",
    "         'No': ['156', '169'],\n",
    "       'total': ['480','520']}\n",
    "\n",
    "df = pd.DataFrame(data)\n",
    "\n",
    "df"
   ]
  },
  {
   "cell_type": "markdown",
   "metadata": {},
   "source": [
    "The answer is yes, so the person that answered thinks that more street lighting is needed.</br>\n",
    "The person who answered is a man.</br>\n",
    "\n",
    "male= 480</br>\n",
    "male_yes= 324</br>\n",
    "male_no= 156</br>\n",
    "\n",
    "female= 520</br>\n",
    "female_yes= 351</br>\n",
    "female_no= 169</br>\n",
    "\n",
    "\n",
    "P(A|B) = male_yes / male </br>\n",
    "P(A|B) = 324 / 480 = 0.675</br>\n",
    "\n",
    "\n",
    "P(A) = (male_yes + female_yes) / (male + female) </br>\n",
    "P(A) = (324 + 351) / (480 + 520) = 0.675</br>\n",
    "\n",
    "**RESULT** - P(A|B) = P(A) the events are independent. </br>\n",
    "Based on the data, there is no strong indication that the desire for more street lighting depends on whether one is male or female."
   ]
  },
  {
   "cell_type": "code",
   "execution_count": 5,
   "metadata": {},
   "outputs": [
    {
     "name": "stdout",
     "output_type": "stream",
     "text": [
      "0.675\n",
      "0.675\n"
     ]
    }
   ],
   "source": [
    "print(324/480)\n",
    "print((324+351)/(480+520))"
   ]
  }
 ],
 "metadata": {
  "kernelspec": {
   "display_name": "Python 3 (ipykernel)",
   "language": "python",
   "name": "python3"
  },
  "language_info": {
   "codemirror_mode": {
    "name": "ipython",
    "version": 3
   },
   "file_extension": ".py",
   "mimetype": "text/x-python",
   "name": "python",
   "nbconvert_exporter": "python",
   "pygments_lexer": "ipython3",
   "version": "3.10.9"
  }
 },
 "nbformat": 4,
 "nbformat_minor": 2
}
