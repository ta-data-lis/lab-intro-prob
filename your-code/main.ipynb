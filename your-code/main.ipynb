{
 "cells": [
  {
   "attachments": {},
   "cell_type": "markdown",
   "metadata": {},
   "source": [
    "# Introduction To Probability\n",
    "## Challenge 1\n",
    "\n",
    "A and B are events of a probability space with $(\\omega, \\sigma, P)$ such that $P(A) = 0.3$, $P(B) = 0.6$ and $P(A \\cap B) = 0.1$\n",
    "\n",
    "Which of the following statements are false?\n",
    "* $P(A \\cup B) = 0.6$\n",
    "* $P(A \\cap B^{C}) = 0.2$\n",
    "* $P(A \\cap (B \\cup B^{C})) = 0.4$\n",
    "* $P(A^{C} \\cap B^{C}) = 0.3$\n",
    "* $P((A \\cap B)^{C}) = 0.9$"
   ]
  },
  {
   "cell_type": "code",
   "execution_count": null,
   "metadata": {},
   "outputs": [],
   "source": [
    "\"\"\"\n",
    "P(A ∪ B) = P(A) + P(B) - P(A ∩ B) = 0.3 + 0.6 - 0.1 = 0.8  // False\n",
    "\n",
    "P(A ∩ B^C) = P(A) - P(A ∩ B) = 0.3 - 0.1 = 0.2  // True\n",
    "\n",
    "P(A ∩ (B ∪ B^C)) = P(A ∩ Ω) = P(A) = 0.3  // False\n",
    "\n",
    "P(A^C ∩ B^C) = P(A ∪ B)^C = 1 - 0.8 = 0.2  // False\n",
    "\n",
    "P((A ∩ B)^C) = P(A^C ∪ B^C) = P(A^C) + P(B^C) - P(A^C ∩ B^C) = (1 - P(A)) + (1 - P(B)) - (0.2) = 0.1  // False\n",
    "\"\"\""
   ]
  },
  {
   "attachments": {},
   "cell_type": "markdown",
   "metadata": {},
   "source": [
    "## Challenge 2\n",
    "There is a box with 10 white balls, 12 red balls and 8 black balls. Calculate the probability of:\n",
    "* Taking a white ball out.\n",
    "* Taking a white ball out after taking a black ball out.\n",
    "* Taking a red ball out after taking a black and a red ball out.\n",
    "* Taking a red ball out after taking a black and a red ball out with reposition.\n",
    "\n",
    "**Hint**: Reposition means putting back the ball into the box after taking it out."
   ]
  },
  {
   "cell_type": "code",
   "execution_count": 2,
   "metadata": {},
   "outputs": [
    {
     "data": {
      "text/plain": [
       "'\\nP(white ball) = 10/30 = 1/3\\n\\nP(white ball after black ball) = 10/29\\n\\nP(red ball after black and red) = (12/30) * (8/29) * (11/28) = 0.048\\n\\nP(red ball after black and red with replacement) = (8/30) * (12/30) * (12/30) = 0.0384\\n'"
      ]
     },
     "execution_count": 2,
     "metadata": {},
     "output_type": "execute_result"
    }
   ],
   "source": [
    "\"\"\"\n",
    "P(white ball) = 10/30 = 1/3\n",
    "\n",
    "P(white ball after black ball) = 10/29\n",
    "\n",
    "P(red ball after black and red) = (12/30) * (8/29) * (11/28) = 0.048\n",
    "\n",
    "P(red ball after black and red with replacement) = (8/30) * (12/30) * (12/30) = 0.0384\n",
    "\"\"\"\n"
   ]
  },
  {
   "attachments": {},
   "cell_type": "markdown",
   "metadata": {},
   "source": [
    "## Challenge 3\n",
    "\n",
    "You are planning to go on a picnic today but the morning is cloudy. You hate rain so you don't know whether to go out or stay home! To help you make a decision, you gather the following data about rainy days:\n",
    "\n",
    "* Knowing that it is a rainy day, the probability of cloudy is 50%!\n",
    "* The probability of any day (rainy or not) starting off cloudy is 40%. \n",
    "* This month is usually dry so only 3 of 30 days (10%) tend to be rainy. \n",
    "\n",
    "What is the probability of rain, given the day started cloudy?"
   ]
  },
  {
   "cell_type": "code",
   "execution_count": null,
   "metadata": {},
   "outputs": [],
   "source": [
    "\"\"\"\n",
    "R: the event that it is a rainy day\n",
    "C: the event that it is a cloudy day\n",
    "\n",
    "P(R|C) = P(R and C) / P(C)\n",
    "\n",
    "P(C|R) = 0.5, the probability of cloudy given it is a rainy day.\n",
    "P(C) = P(C and R) + P(C and not R) = 0.4, the probability of a cloudy day (regardless of rain).\n",
    "P(C and R) = P(C|R) * P(R) = 0.5 * 0.1 = 0.05, the probability of a day being both rainy and cloudy.\n",
    "P(C and not R) = P(C|not R) * P(not R) = 0.4 * 0.9 = 0.36, the probability of a day being cloudy but not rainy.\n",
    "P(R) = 0.1, the probability of rain.\n",
    "\n",
    "\n",
    "P(R|C) = P(R and C) / P(C) = (0.5 * 0.1) / 0.4 = 0.125\n",
    "\n",
    "The probability of rain, given the day started cloudy, is of 12.5%\n",
    "\"\"\""
   ]
  },
  {
   "attachments": {},
   "cell_type": "markdown",
   "metadata": {},
   "source": [
    "## Challenge 4\n",
    "\n",
    "One thousand people were asked through a telephone survey whether they thought more street lighting is needed at night or not.\n",
    "\n",
    "Out of the 480 men that answered the survey, 324 said yes and 156 said no. On the other hand, out of the 520 women that answered, 351 said yes and 169 said no. \n",
    "\n",
    "We wonder if men and women have a different opinions about the street lighting matter. Is gender relevant or irrelevant to the question?\n",
    "\n",
    "Consider the following events:\n",
    "- The answer is yes, so the person that answered thinks that more street lighting is needed.\n",
    "- The person who answered is a man.\n",
    "\n",
    "We want to know if these events are independent, that is, if the fact of wanting more light depends on whether one is male or female. Are these events independent or not?\n",
    "\n",
    "**Hint**: To clearly compare the answers by gender, it is best to place the data in a table."
   ]
  },
  {
   "cell_type": "code",
   "execution_count": 4,
   "metadata": {},
   "outputs": [
    {
     "name": "stdout",
     "output_type": "stream",
     "text": [
      "The events 'answering yes' and 'being a man' are independent.\n"
     ]
    }
   ],
   "source": [
    "# your code here\n",
    "\n",
    "# variables\n",
    "men_yes = 324\n",
    "men_no = 156\n",
    "women_yes = 351\n",
    "women_no = 169\n",
    "\n",
    "# people who answered the survey\n",
    "total = men_yes + men_no + women_yes + women_no\n",
    "\n",
    "# probability of saying yes and being a man\n",
    "prob_yes = (men_yes + women_yes) / total\n",
    "prob_men = (men_yes + men_no) / total\n",
    "\n",
    "# probability of answering yes when the person is a man\n",
    "prob_yes_given_men = men_yes / (men_yes + men_no)\n",
    "\n",
    "\n",
    "\n",
    "if abs(prob_yes_given_men - prob_yes) < 0.01:\n",
    "    print(\"The events 'answering yes' and 'being a man' are independent.\")\n",
    "else:\n",
    "    print(\"The events 'answering yes' and 'being a man' are not independent.\")\n"
   ]
  },
  {
   "cell_type": "code",
   "execution_count": null,
   "metadata": {},
   "outputs": [],
   "source": [
    "\"\"\"\n",
    "your solution here\n",
    "\"\"\""
   ]
  }
 ],
 "metadata": {
  "kernelspec": {
   "display_name": "Python 3",
   "language": "python",
   "name": "python3"
  },
  "language_info": {
   "codemirror_mode": {
    "name": "ipython",
    "version": 3
   },
   "file_extension": ".py",
   "mimetype": "text/x-python",
   "name": "python",
   "nbconvert_exporter": "python",
   "pygments_lexer": "ipython3",
   "version": "3.11.3"
  }
 },
 "nbformat": 4,
 "nbformat_minor": 2
}
