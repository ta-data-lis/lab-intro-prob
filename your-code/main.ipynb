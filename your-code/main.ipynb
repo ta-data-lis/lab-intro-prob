{
 "cells": [
  {
   "cell_type": "markdown",
   "metadata": {},
   "source": [
    "# Introduction To Probability\n",
    "## Challenge 1\n",
    "\n",
    "A and B are events of a probability space with $(\\omega, \\sigma, P)$ such that $P(A) = 0.3$, $P(B) = 0.6$ and $P(A \\cap B) = 0.1$\n",
    "\n",
    "Which of the following statements are false?\n",
    "* $P(A \\cup B) = 0.6$\n",
    "* $P(A \\cap B^{C}) = 0.2$\n",
    "* $P(A \\cap (B \\cup B^{C})) = 0.4$\n",
    "* $P(A^{C} \\cap B^{C}) = 0.3$\n",
    "* $P((A \\cap B)^{C}) = 0.9$"
   ]
  },
  {
   "cell_type": "code",
   "execution_count": 1,
   "metadata": {},
   "outputs": [
    {
     "name": "stdout",
     "output_type": "stream",
     "text": [
      "\n",
      "The first statement is false. The probability of union of A and B is the sum of probability of A and probability of B removing the probability of intersection of both sets. The correct answer is 0.8.\n",
      "The third statement is also false. The union of B ans its complementary is the total space available. The intersection of A with this union of B and its complementary is A itself. So, the probability is the probability of A which is 0.3.\n",
      "Finally, the fourth statement is false. The probability of intersection between the complementary of A and complementary of B is the total space minus the sum of probabilities of A and B minus the intersection of both sets, which results in 0.2. \n",
      "\n"
     ]
    }
   ],
   "source": [
    "print(\"\"\"\n",
    "The first statement is false. The probability of union of A and B is the sum of probability of A and probability of B \\\n",
    "removing the probability of intersection of both sets. The correct answer is 0.8.\n",
    "The third statement is also false. The union of B and its complementary is the total space available. The intersection of A \\\n",
    "with this union of B and its complementary is A itself. So, the probability is the probability of A which is 0.3.\n",
    "Finally, the fourth statement is false. The probability of intersection between the complementary of A and complementary of \\\n",
    "B is the total space minus the sum of probabilities of A and B minus the intersection of both sets, which results in 0.2. \n",
    "\"\"\")"
   ]
  },
  {
   "cell_type": "markdown",
   "metadata": {},
   "source": [
    "## Challenge 2\n",
    "There is a box with 10 white balls, 12 red balls and 8 black balls. Calculate the probability of:\n",
    "* Taking a white ball out.\n",
    "* Taking a white ball out after taking a black ball out.\n",
    "* Taking a red ball out after taking a black and a red ball out.\n",
    "* Taking a red ball out after taking a black and a red ball out with reposition.\n",
    "\n",
    "**Hint**: Reposition means putting back the ball into the box after taking it out."
   ]
  },
  {
   "cell_type": "code",
   "execution_count": 2,
   "metadata": {},
   "outputs": [
    {
     "name": "stdout",
     "output_type": "stream",
     "text": [
      "\n",
      "The probability of taking a white ball out is 10 over the sum of all balls, which results in 1/3.\n",
      "The probability of taking a white ball out after taking a black ball out is 10 over the sum of all balls except one black, which results in 10/29.\n",
      "The probability of taking a red ball out after taking a black and a red ball out is 11/(10+11+7) which results in 11/28.\n",
      "The probability of taking a red ball out after taking a black and a red ball out with reposition, is 12/(10+12+8) which results in 6/15.\n",
      "\n"
     ]
    }
   ],
   "source": [
    "print(\"\"\"\n",
    "The probability of taking a white ball out is 10 over the sum of all balls, which results in 1/3.\n",
    "The probability of taking a white ball out after taking a black ball out is 10 over the sum of all balls except one black, \\\n",
    "which results in 10/29.\n",
    "The probability of taking a red ball out after taking a black and a red ball out is 11/(10+11+7) which results in 11/28.\n",
    "The probability of taking a red ball out after taking a black and a red ball out with reposition, is 12/(10+12+8) which \\\n",
    "results in 6/15.\n",
    "\"\"\")"
   ]
  },
  {
   "cell_type": "markdown",
   "metadata": {},
   "source": [
    "## Challenge 3\n",
    "\n",
    "You are planning to go on a picnic today but the morning is cloudy. You hate rain so you don't know whether to go out or stay home! To help you make a decision, you gather the following data about rainy days:\n",
    "\n",
    "* Knowing that it is a rainy day, the probability of cloudy is 50%!\n",
    "* The probability of any day (rainy or not) starting off cloudy is 40%. \n",
    "* This month is usually dry so only 3 of 30 days (10%) tend to be rainy. \n",
    "\n",
    "What is the probability of rain, given the day started cloudy?"
   ]
  },
  {
   "cell_type": "code",
   "execution_count": 3,
   "metadata": {},
   "outputs": [
    {
     "name": "stdout",
     "output_type": "stream",
     "text": [
      "\n",
      "C --> Cloudy day\n",
      "R --> Rainy day\n",
      "\n",
      "P(C|R)=0.5\n",
      "P(C)=0.4\n",
      "P(R)=0.1\n",
      "\n",
      "P(R|C)=?\n",
      "\n",
      "P(R|C)=P(R and C)/P(C) [1]\n",
      "\n",
      "Assumption: The day being rainy is independent of being cloudy. R and C are independent.\n",
      "\n",
      "P(C|R)=P(R and C)/P(R) <=> P(R and C)=P(C|R)*P(R) [2]\n",
      "\n",
      "If [2] is inserted in [1]:\n",
      "\n",
      "P(R|C)=P(C|R)*P(R)/P(C)= 0.5*0.1/0.4= 0.125\n",
      "\n",
      "Answer: The probability of rain, given the day started cloudy is 0.125. So, I would go out for a picnic.\n",
      "\n"
     ]
    }
   ],
   "source": [
    "print(\"\"\"\n",
    "C --> Cloudy day\n",
    "R --> Rainy day\n",
    "\n",
    "P(C|R)=0.5\n",
    "P(C)=0.4\n",
    "P(R)=0.1\n",
    "\n",
    "P(R|C)=?\n",
    "\n",
    "P(R|C)=P(R and C)/P(C) [1]\n",
    "\n",
    "Assumption: The day being rainy is independent of being cloudy. R and C are independent.\n",
    "\n",
    "P(C|R)=P(R and C)/P(R) <=> P(R and C)=P(C|R)*P(R) [2]\n",
    "\n",
    "If [2] is inserted in [1]:\n",
    "\n",
    "P(R|C)=P(C|R)*P(R)/P(C)= 0.5*0.1/0.4= 0.125\n",
    "\n",
    "Answer: The probability of rain, given the day started cloudy is 0.125. So, I would go out for a picnic.\n",
    "\"\"\")"
   ]
  },
  {
   "cell_type": "markdown",
   "metadata": {},
   "source": [
    "## Challenge 4\n",
    "\n",
    "One thousand people were asked through a telephone survey whether they thought more street lighting is needed at night or not.\n",
    "\n",
    "Out of the 480 men that answered the survey, 324 said yes and 156 said no. On the other hand, out of the 520 women that answered, 351 said yes and 169 said no. \n",
    "\n",
    "We wonder if men and women have a different opinions about the street lighting matter. Is gender relevant or irrelevant to the question?\n",
    "\n",
    "Consider the following events:\n",
    "- The answer is yes, so the person that answered thinks that more street lighting is needed.\n",
    "- The person who answered is a man.\n",
    "\n",
    "We want to know if these events are independent, that is, if the fact of wanting more light depends on whether one is male or female. Are these events independent or not?\n",
    "\n",
    "**Hint**: To clearly compare the answers by gender, it is best to place the data in a table."
   ]
  },
  {
   "cell_type": "code",
   "execution_count": null,
   "metadata": {},
   "outputs": [],
   "source": [
    "# your code here\n",
    "# The events (gender and answer) are independent."
   ]
  },
  {
   "cell_type": "code",
   "execution_count": 5,
   "metadata": {},
   "outputs": [
    {
     "name": "stdout",
     "output_type": "stream",
     "text": [
      "\n",
      "      |---|---|\n",
      "      |Yes| No|\n",
      "------|---|---|----|\n",
      "Man   |324|156| 480|\n",
      "------|---|---|----|\n",
      "Woman |351|169| 520|\n",
      "------|---|---|----|\n",
      "      |675|325|1000|\n",
      "      |---|---|----|\n",
      "      \n",
      "P(Man and Yes)=0.324=P(Man)*P(Yes)=480/1000*675/1000\n",
      "P(Man and No)=0.156=P(Man)*P(No)=480/1000*325/1000\n",
      "P(Woman and Yes)=0.351=P(Woman)*P(Yes)=520/1000*675/1000\n",
      "P(Woman and No)=0.169=P(Woman)*P(No)=520/1000*325/1000\n",
      "\n"
     ]
    }
   ],
   "source": [
    "print(\"\"\"\n",
    "      |---|---|\n",
    "      |Yes| No|\n",
    "------|---|---|----|\n",
    "Man   |324|156| 480|\n",
    "------|---|---|----|\n",
    "Woman |351|169| 520|\n",
    "------|---|---|----|\n",
    "      |675|325|1000|\n",
    "      |---|---|----|\n",
    "      \n",
    "P(Man and Yes)=0.324=P(Man)*P(Yes)=480/1000*675/1000\n",
    "P(Man and No)=0.156=P(Man)*P(No)=480/1000*325/1000\n",
    "P(Woman and Yes)=0.351=P(Woman)*P(Yes)=520/1000*675/1000\n",
    "P(Woman and No)=0.169=P(Woman)*P(No)=520/1000*325/1000\n",
    "\"\"\")"
   ]
  }
 ],
 "metadata": {
  "kernelspec": {
   "display_name": "Python 3 (ipykernel)",
   "language": "python",
   "name": "python3"
  },
  "language_info": {
   "codemirror_mode": {
    "name": "ipython",
    "version": 3
   },
   "file_extension": ".py",
   "mimetype": "text/x-python",
   "name": "python",
   "nbconvert_exporter": "python",
   "pygments_lexer": "ipython3",
   "version": "3.9.7"
  }
 },
 "nbformat": 4,
 "nbformat_minor": 2
}
