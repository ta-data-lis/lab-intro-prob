{
 "cells": [
  {
   "cell_type": "markdown",
   "metadata": {},
   "source": [
    "# Introduction To Probability\n",
    "## Challenge 1\n",
    "\n",
    "A and B are events of a probability space with $(\\omega, \\sigma, P)$ such that $P(A) = 0.3$, $P(B) = 0.6$ and $P(A \\cap B) = 0.1$\n",
    "\n",
    "Which of the following statements are false?\n",
    "* $P(A \\cup B) = 0.6$\n",
    "* $P(A \\cap B^{C}) = 0.2$\n",
    "* $P(A \\cap (B \\cup B^{C})) = 0.4$\n",
    "* $P(A^{C} \\cap B^{C}) = 0.3$\n",
    "* $P((A \\cap B)^{C}) = 0.9$"
   ]
  },
  {
   "cell_type": "markdown",
   "metadata": {},
   "source": [
    "\"\"\"\n",
    "* $P(A \\cup B) = 0.6$\n",
    "    *  $P\\left ( A\\cup B \\right )= P\\left ( A \\right )+P\\left ( B \\right )-P\\left ( A \\right )\\cap P\\left ( B \\right )= 0,3 + 0,6 - 0,1 = 0,8$ --> FALSE\n",
    "\n",
    "\n",
    "* $P(A \\cap B^{C}) = 0.2$\n",
    "    * 0,3 - 0,1 = 0,2 --> TRUE\n",
    "\n",
    "\n",
    "* $P(A \\cap (B \\cup B^{C})) = 0.4$\n",
    "    * P(A) = 0,3 --> FALSE\n",
    "\n",
    "\n",
    "* $P(A^{C} \\cap B^{C}) = 0.3$\n",
    "    * 1 - 0,9 = 0,1 --> FALSE\n",
    "\n",
    "\n",
    "* $P((A \\cap B)^{C}) = 0.9$\n",
    "    * 1 - 0,1 = 0,9 --> TRUE\n",
    "\"\"\""
   ]
  },
  {
   "cell_type": "markdown",
   "metadata": {},
   "source": [
    "## Challenge 2\n",
    "There is a box with 10 white balls, 12 red balls and 8 black balls. Calculate the probability of:\n",
    "* Taking a white ball out.\n",
    "* Taking a white ball out after taking a black ball out.\n",
    "* Taking a red ball out after taking a black and a red ball out.\n",
    "* Taking a red ball out after taking a black and a red ball out with reposition.\n",
    "\n",
    "**Hint**: Reposition means putting back the ball into the box after taking it out."
   ]
  },
  {
   "cell_type": "markdown",
   "metadata": {},
   "source": [
    "\"\"\"\n",
    "* a) P(W) = 10/30 = 1/3 = 0,33\n",
    "* b) 10 / 29 = 0,34\n",
    "* c) 11 / 28 = 0,39\n",
    "* d) 12 / 30 = 0,4\n",
    "\"\"\""
   ]
  },
  {
   "cell_type": "markdown",
   "metadata": {},
   "source": [
    "## Challenge 3\n",
    "\n",
    "You are planning to go on a picnic today but the morning is cloudy. You hate rain so you don't know whether to go out or stay home! To help you make a decision, you gather the following data about rainy days:\n",
    "\n",
    "* Knowing that it is a rainy day, the probability of cloudy is 50%!\n",
    "* The probability of any day (rainy or not) starting off cloudy is 40%. \n",
    "* This month is usually dry so only 3 of 30 days (10%) tend to be rainy. \n",
    "\n",
    "What is the probability of rain, given the day started cloudy?"
   ]
  },
  {
   "cell_type": "markdown",
   "metadata": {},
   "source": [
    "\"\"\"\n",
    "* (0,5 * 0,1) / 0,4 = 0,125\n",
    "\"\"\""
   ]
  },
  {
   "cell_type": "markdown",
   "metadata": {},
   "source": [
    "## Challenge 4\n",
    "\n",
    "One thousand people were asked through a telephone survey whether they thought more street lighting is needed at night or not.\n",
    "\n",
    "Out of the 480 men that answered the survey, 324 said yes and 156 said no. On the other hand, out of the 520 women that answered, 351 said yes and 169 said no. \n",
    "\n",
    "We wonder if men and women have a different opinions about the street lighting matter. Is gender relevant or irrelevant to the question?\n",
    "\n",
    "Consider the following events:\n",
    "- The answer is yes, so the person that answered thinks that more street lighting is needed.\n",
    "- The person who answered is a man.\n",
    "\n",
    "We want to know if these events are independent, that is, if the fact of wanting more light depends on whether one is male or female. Are these events independent or not?\n",
    "\n",
    "**Hint**: To clearly compare the answers by gender, it is best to place the data in a table."
   ]
  },
  {
   "cell_type": "code",
   "execution_count": null,
   "metadata": {},
   "outputs": [],
   "source": [
    "# your code here"
   ]
  },
  {
   "cell_type": "markdown",
   "metadata": {},
   "source": [
    "\"\"\"\n",
    "P(M) x P(Y) = P (M n Y)\n",
    "\n",
    "P(M)=0.48\n",
    "P(W)=0.52\n",
    "\n",
    "P(Y) = 0.675\n",
    "P(N) = 0.325\n",
    "\n",
    "P(M and Y)=0.324\n",
    "P(W and Y)=0.351\n",
    "P(M and N)=0.156\n",
    "P(W and N)=0.169\n",
    "\n",
    "P(M) x P(Y) = 0.48 x 0.675 = 0.324 = P(M and Y) --> Events are indepent\n",
    "\n",
    "\"\"\""
   ]
  },
  {
   "cell_type": "code",
   "execution_count": null,
   "metadata": {},
   "outputs": [],
   "source": []
  }
 ],
 "metadata": {
  "kernelspec": {
   "display_name": "Python 3.7.13 ('snakes')",
   "language": "python",
   "name": "python3"
  },
  "language_info": {
   "codemirror_mode": {
    "name": "ipython",
    "version": 3
   },
   "file_extension": ".py",
   "mimetype": "text/x-python",
   "name": "python",
   "nbconvert_exporter": "python",
   "pygments_lexer": "ipython3",
   "version": "3.7.13"
  },
  "vscode": {
   "interpreter": {
    "hash": "c47d4bdcca8743658c057edf414257ecce9ba534762ce2cc729745d7b776a3a0"
   }
  }
 },
 "nbformat": 4,
 "nbformat_minor": 2
}
