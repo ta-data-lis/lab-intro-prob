{
 "cells": [
  {
   "cell_type": "markdown",
   "metadata": {},
   "source": [
    "# Introduction To Probability\n",
    "## Challenge 1\n",
    "\n",
    "A and B are events of a probability space with $(\\omega, \\sigma, P)$ such that $P(A) = 0.3$, $P(B) = 0.6$ and $P(A \\cap B) = 0.1$\n",
    "\n",
    "Which of the following statements are false?\n",
    "* $P(A \\cup B) = 0.6$\n",
    "* $P(A \\cap B^{C}) = 0.2$\n",
    "* $P(A \\cap (B \\cup B^{C})) = 0.4$\n",
    "* $P(A^{C} \\cap B^{C}) = 0.3$\n",
    "* $P((A \\cap B)^{C}) = 0.9$"
   ]
  },
  {
   "cell_type": "markdown",
   "metadata": {},
   "source": [
    "### Solution\n",
    "\n",
    "* $P(A \\cup B) = P(A)+P(B) - P(A \\cap B) = 0.3 + 0.6 - 0.1 = 0.8$ <b>FALSE</b>\n",
    "* $P(A \\cap B^{C}) = P(A) - P(A \\cap B) = 0.3 - 0.1 = 0.2$ <b>TRUE</b>\n",
    "* $P(A \\cap (B \\cup B^{C})) = P(A) = 0.3$ <b>FALSE</b>\n",
    "* $P(A^{C} \\cap B^{C}) = P(A \\cup B) = P(A)+P(B) - P(A \\cap B) = 0.3 + 0.6 - 0.1 = 0.8$ <b>FALSE</b>\n",
    "* $P((A \\cap B)^{C}) = P(A)+P(B) = 0.9$ <b>TRUE</b>"
   ]
  },
  {
   "cell_type": "markdown",
   "metadata": {},
   "source": [
    "## Challenge 2\n",
    "There is a box with 10 white balls, 12 red balls and 8 black balls. Calculate the probability of:\n",
    "* Taking a white ball out.\n",
    "* Taking a white ball out after taking a black ball out.\n",
    "* Taking a red ball out after taking a black and a red ball out.\n",
    "* Taking a red ball out after taking a black and a red ball out with reposition.\n",
    "\n",
    "**Hint**: Reposition means putting back the ball into the box after taking it out."
   ]
  },
  {
   "cell_type": "markdown",
   "metadata": {},
   "source": [
    "### Solution"
   ]
  },
  {
   "cell_type": "code",
   "execution_count": 58,
   "metadata": {},
   "outputs": [
    {
     "name": "stdout",
     "output_type": "stream",
     "text": [
      "P(white ball out) = 0.3333333333333333\n",
      "P(white ball out after taking a black ball out) = 0.09195402298850575\n",
      "P(red ball out after taking a black and a red ball out) = 0.04334975369458128\n",
      "P(red ball out after taking a black and a red ball out with reposition) = 0.04266666666666667\n"
     ]
    }
   ],
   "source": [
    "white = 10\n",
    "red = 12\n",
    "black = 8\n",
    "total = white + red + black\n",
    "\n",
    "print(\"P(white ball out) = \" + str(white / total))\n",
    "print(\"P(white ball out after taking a black ball out) = \" + \n",
    "      str((black / total) * (white / (total - 1))))\n",
    "print(\"P(red ball out after taking a black and a red ball out) = \" + \n",
    "      str((black / total) * (red / (total - 1) * ((red - 1) / (total - 2)))))\n",
    "print(\"P(red ball out after taking a black and a red ball out with reposition) = \" + \n",
    "      str((black / total) * (red / total) * (red/ total)))"
   ]
  },
  {
   "cell_type": "markdown",
   "metadata": {},
   "source": [
    "## Challenge 3\n",
    "\n",
    "You are planning to go on a picnic today but the morning is cloudy. You hate rain so you don't know whether to go out or stay home! To help you make a decision, you gather the following data about rainy days:\n",
    "\n",
    "* 50% of all rainy days start off cloudy!\n",
    "* Cloudy mornings are common. About 40% of days start cloudy. \n",
    "* This month is usually dry so only 3 of 30 days (10%) tend to be rainy. \n",
    "\n",
    "What is the chance of rain during the day?"
   ]
  },
  {
   "cell_type": "markdown",
   "metadata": {},
   "source": [
    "### Solution\n",
    "\n",
    "- P(cloudy|rainy) = 50%\n",
    "- P(cloudy) = 40%\n",
    "- P(rainy) = 10%\n",
    "\n",
    "P(rainy|cloudy) = (P(cloudy|rainy) * P(rainy)) / P(cloudy) = (0.5 * 0.1) / 0.4 = 0.125 = 12.5%"
   ]
  },
  {
   "cell_type": "markdown",
   "metadata": {},
   "source": [
    "## Challenge 4\n",
    "\n",
    "One thousand people were asked through a telephone survey whether they thought more street lighting is needed at night or not.\n",
    "\n",
    "Out of the 480 men that answered the survey, 324 said yes and 156 said no. On the other hand, out of the 520 women that answered, 351 said yes and 169 said no. \n",
    "\n",
    "We wonder if men and women have a different opinions about the street lighting matter. Is gender relevant or irrelevant to the question?\n",
    "\n",
    "Consider the following events:\n",
    "- The answer is yes, so the person that answered thinks that more street lighting is needed.\n",
    "- The person who answered is a man.\n",
    "\n",
    "We want to know if these events are independent, that is, if the fact of wanting more light depends on whether one is male or female. Are these events independent or not?\n",
    "\n",
    "**Hint**: To clearly compare the answers by gender, it is best to place the data in a table."
   ]
  },
  {
   "cell_type": "markdown",
   "metadata": {},
   "source": [
    "### Solution"
   ]
  },
  {
   "cell_type": "code",
   "execution_count": 41,
   "metadata": {
    "scrolled": true
   },
   "outputs": [
    {
     "data": {
      "text/html": [
       "<div>\n",
       "<style scoped>\n",
       "    .dataframe tbody tr th:only-of-type {\n",
       "        vertical-align: middle;\n",
       "    }\n",
       "\n",
       "    .dataframe tbody tr th {\n",
       "        vertical-align: top;\n",
       "    }\n",
       "\n",
       "    .dataframe thead th {\n",
       "        text-align: right;\n",
       "    }\n",
       "</style>\n",
       "<table border=\"1\" class=\"dataframe\">\n",
       "  <thead>\n",
       "    <tr style=\"text-align: right;\">\n",
       "      <th></th>\n",
       "      <th>Yes</th>\n",
       "      <th>No</th>\n",
       "      <th>Total</th>\n",
       "    </tr>\n",
       "  </thead>\n",
       "  <tbody>\n",
       "    <tr>\n",
       "      <td>Men</td>\n",
       "      <td>324</td>\n",
       "      <td>156</td>\n",
       "      <td>480</td>\n",
       "    </tr>\n",
       "    <tr>\n",
       "      <td>Women</td>\n",
       "      <td>351</td>\n",
       "      <td>169</td>\n",
       "      <td>520</td>\n",
       "    </tr>\n",
       "  </tbody>\n",
       "</table>\n",
       "</div>"
      ],
      "text/plain": [
       "       Yes   No  Total\n",
       "Men    324  156    480\n",
       "Women  351  169    520"
      ]
     },
     "execution_count": 41,
     "metadata": {},
     "output_type": "execute_result"
    }
   ],
   "source": [
    "# Creating dataframe\n",
    "import pandas as pd\n",
    "\n",
    "men = [324, 156, 480]\n",
    "women = [351, 169, 520]\n",
    "index = ['Men', 'Women']\n",
    "colnames = ['Yes', 'No', 'Total']\n",
    "\n",
    "df = pd.DataFrame((men, women), index = index, columns = colnames)\n",
    "df"
   ]
  },
  {
   "cell_type": "code",
   "execution_count": 60,
   "metadata": {},
   "outputs": [
    {
     "name": "stdout",
     "output_type": "stream",
     "text": [
      "P(Man|Yes) = 0.48\n",
      "P(Man) = 0.48\n"
     ]
    }
   ],
   "source": [
    "print('P(Man|Yes) = ' + str((df.Yes.Men) / ((df.Yes.Men) + (df.Yes.Women)))) \n",
    "print('P(Man) = ' + str((df.Total.Men) / ((df.Total.Men) + (df.Total.Women))))"
   ]
  },
  {
   "cell_type": "code",
   "execution_count": 62,
   "metadata": {},
   "outputs": [
    {
     "name": "stdout",
     "output_type": "stream",
     "text": [
      "P(Yes|Man) = 0.675\n",
      "P(Yes) = 0.675\n"
     ]
    }
   ],
   "source": [
    "print('P(Yes|Man) = ' + str((df.Yes.Men) / (df.Total.Men))) \n",
    "print('P(Yes) = ' + str(((df.Yes.Men) + (df.Yes.Women)) \n",
    "      / ((df.Total.Men) + (df.Total.Women))))"
   ]
  },
  {
   "cell_type": "markdown",
   "metadata": {},
   "source": [
    "Definition of independance: P(A|B) = P(A)\n",
    "\n",
    "Since P(Man|Yes) = P(Man) and P(Yes|Man) = P(Yes), we can conclude that the events are independant."
   ]
  }
 ],
 "metadata": {
  "kernelspec": {
   "display_name": "Python 3",
   "language": "python",
   "name": "python3"
  },
  "language_info": {
   "codemirror_mode": {
    "name": "ipython",
    "version": 3
   },
   "file_extension": ".py",
   "mimetype": "text/x-python",
   "name": "python",
   "nbconvert_exporter": "python",
   "pygments_lexer": "ipython3",
   "version": "3.7.4"
  }
 },
 "nbformat": 4,
 "nbformat_minor": 2
}
